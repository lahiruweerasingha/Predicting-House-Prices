{
  "nbformat": 4,
  "nbformat_minor": 0,
  "metadata": {
    "colab": {
      "provenance": [],
      "toc_visible": true,
      "gpuType": "T4"
    },
    "kernelspec": {
      "name": "python3",
      "display_name": "Python 3"
    },
    "language_info": {
      "name": "python"
    },
    "accelerator": "GPU"
  },
  "cells": [
    {
      "cell_type": "markdown",
      "source": [
        "# **Predicting House Prices: A Comparative Analysis of Neural Networks and Traditional Machine Learning Models**"
      ],
      "metadata": {
        "id": "_kGoTKs78kTm"
      }
    },
    {
      "cell_type": "markdown",
      "source": [
        "## **About the Dataset**"
      ],
      "metadata": {
        "id": "hMlWxEun9Hxs"
      }
    },
    {
      "cell_type": "markdown",
      "source": [
        "Boston housing dataset: https://www.kaggle.com/datasets/altavish/boston-housing-dataset\n",
        "\n",
        "    1. CRIM      per capita crime rate by town\n",
        "    2. ZN        proportion of residential land zoned for lots over 25,000 sq.ft.\n",
        "    3. INDUS     proportion of non-retail business acres per town\n",
        "    4. CHAS      Charles River dummy variable (= 1 if tract bounds river; 0 otherwise)\n",
        "    5. NOX       nitric oxides concentration (parts per 10 million)\n",
        "    6. RM        average number of rooms per dwelling\n",
        "    7. AGE       proportion of owner-occupied units built prior to 1940\n",
        "    8. DIS       weighted distances to five Boston employment centres\n",
        "    9. RAD       index of accessibility to radial highways\n",
        "    10. TAX      full-value property-tax rate per $10,000\n",
        "    11. PTRATIO  pupil-teacher ratio by town\n",
        "    12. B        1000(Bk - 0.63)^2 where Bk is the proportion of blacks by town\n",
        "    13. LSTAT    % lower status of the population\n",
        "    14. MEDV     Median value of owner-occupied homes in $1000's\n"
      ],
      "metadata": {
        "id": "IY78Fhlg9OHy"
      }
    },
    {
      "cell_type": "markdown",
      "source": [
        "## **Importing necessary Libraries**"
      ],
      "metadata": {
        "id": "iCym_htA92m3"
      }
    },
    {
      "cell_type": "code",
      "execution_count": 1,
      "metadata": {
        "id": "eCAtKoucs156"
      },
      "outputs": [],
      "source": [
        "import pandas as pd\n",
        "import numpy as np\n",
        "import matplotlib.pyplot as plt\n",
        "import seaborn as sns\n",
        "\n",
        "from keras.models import Sequential\n",
        "from keras.layers import Dense\n",
        "from keras.callbacks import EarlyStopping\n",
        "\n",
        "from sklearn.model_selection import train_test_split, GridSearchCV\n",
        "from sklearn.preprocessing import StandardScaler\n",
        "from sklearn.metrics import mean_squared_error, mean_absolute_error\n",
        "from sklearn.linear_model import LinearRegression, Ridge\n",
        "from sklearn.tree import DecisionTreeRegressor\n",
        "from sklearn.ensemble import RandomForestRegressor, GradientBoostingRegressor\n",
        "import xgboost as xgb\n",
        "\n",
        "from google.colab import drive"
      ]
    },
    {
      "cell_type": "markdown",
      "source": [
        "## **Initial Data Exploration**"
      ],
      "metadata": {
        "id": "5MWRVToZ-0FS"
      }
    },
    {
      "cell_type": "code",
      "source": [
        "drive.mount('/content/drive')"
      ],
      "metadata": {
        "colab": {
          "base_uri": "https://localhost:8080/"
        },
        "id": "Q9tvCwL3_XPx",
        "outputId": "3ffdf9a1-46df-4df3-c003-680fe743c416"
      },
      "execution_count": 2,
      "outputs": [
        {
          "output_type": "stream",
          "name": "stdout",
          "text": [
            "Drive already mounted at /content/drive; to attempt to forcibly remount, call drive.mount(\"/content/drive\", force_remount=True).\n"
          ]
        }
      ]
    },
    {
      "cell_type": "code",
      "source": [
        "df = pd.read_csv(\"/content/drive/MyDrive/Data Sets/Housing Data.csv\")\n",
        "df.head()"
      ],
      "metadata": {
        "colab": {
          "base_uri": "https://localhost:8080/",
          "height": 206
        },
        "id": "zJMkv2O6-xRs",
        "outputId": "d0566fd5-1ba5-4ea8-c3ec-d4e351c66338"
      },
      "execution_count": 3,
      "outputs": [
        {
          "output_type": "execute_result",
          "data": {
            "text/plain": [
              "      CRIM    ZN  INDUS  CHAS    NOX     RM   AGE     DIS  RAD  TAX  PTRATIO  \\\n",
              "0  0.00632  18.0   2.31   0.0  0.538  6.575  65.2  4.0900    1  296     15.3   \n",
              "1  0.02731   0.0   7.07   0.0  0.469  6.421  78.9  4.9671    2  242     17.8   \n",
              "2  0.02729   0.0   7.07   0.0  0.469  7.185  61.1  4.9671    2  242     17.8   \n",
              "3  0.03237   0.0   2.18   0.0  0.458  6.998  45.8  6.0622    3  222     18.7   \n",
              "4  0.06905   0.0   2.18   0.0  0.458  7.147  54.2  6.0622    3  222     18.7   \n",
              "\n",
              "        B  LSTAT  MEDV  \n",
              "0  396.90   4.98  24.0  \n",
              "1  396.90   9.14  21.6  \n",
              "2  392.83   4.03  34.7  \n",
              "3  394.63   2.94  33.4  \n",
              "4  396.90    NaN  36.2  "
            ],
            "text/html": [
              "\n",
              "  <div id=\"df-47fd4fef-fbaf-4e89-a037-28e3e9da7df1\" class=\"colab-df-container\">\n",
              "    <div>\n",
              "<style scoped>\n",
              "    .dataframe tbody tr th:only-of-type {\n",
              "        vertical-align: middle;\n",
              "    }\n",
              "\n",
              "    .dataframe tbody tr th {\n",
              "        vertical-align: top;\n",
              "    }\n",
              "\n",
              "    .dataframe thead th {\n",
              "        text-align: right;\n",
              "    }\n",
              "</style>\n",
              "<table border=\"1\" class=\"dataframe\">\n",
              "  <thead>\n",
              "    <tr style=\"text-align: right;\">\n",
              "      <th></th>\n",
              "      <th>CRIM</th>\n",
              "      <th>ZN</th>\n",
              "      <th>INDUS</th>\n",
              "      <th>CHAS</th>\n",
              "      <th>NOX</th>\n",
              "      <th>RM</th>\n",
              "      <th>AGE</th>\n",
              "      <th>DIS</th>\n",
              "      <th>RAD</th>\n",
              "      <th>TAX</th>\n",
              "      <th>PTRATIO</th>\n",
              "      <th>B</th>\n",
              "      <th>LSTAT</th>\n",
              "      <th>MEDV</th>\n",
              "    </tr>\n",
              "  </thead>\n",
              "  <tbody>\n",
              "    <tr>\n",
              "      <th>0</th>\n",
              "      <td>0.00632</td>\n",
              "      <td>18.0</td>\n",
              "      <td>2.31</td>\n",
              "      <td>0.0</td>\n",
              "      <td>0.538</td>\n",
              "      <td>6.575</td>\n",
              "      <td>65.2</td>\n",
              "      <td>4.0900</td>\n",
              "      <td>1</td>\n",
              "      <td>296</td>\n",
              "      <td>15.3</td>\n",
              "      <td>396.90</td>\n",
              "      <td>4.98</td>\n",
              "      <td>24.0</td>\n",
              "    </tr>\n",
              "    <tr>\n",
              "      <th>1</th>\n",
              "      <td>0.02731</td>\n",
              "      <td>0.0</td>\n",
              "      <td>7.07</td>\n",
              "      <td>0.0</td>\n",
              "      <td>0.469</td>\n",
              "      <td>6.421</td>\n",
              "      <td>78.9</td>\n",
              "      <td>4.9671</td>\n",
              "      <td>2</td>\n",
              "      <td>242</td>\n",
              "      <td>17.8</td>\n",
              "      <td>396.90</td>\n",
              "      <td>9.14</td>\n",
              "      <td>21.6</td>\n",
              "    </tr>\n",
              "    <tr>\n",
              "      <th>2</th>\n",
              "      <td>0.02729</td>\n",
              "      <td>0.0</td>\n",
              "      <td>7.07</td>\n",
              "      <td>0.0</td>\n",
              "      <td>0.469</td>\n",
              "      <td>7.185</td>\n",
              "      <td>61.1</td>\n",
              "      <td>4.9671</td>\n",
              "      <td>2</td>\n",
              "      <td>242</td>\n",
              "      <td>17.8</td>\n",
              "      <td>392.83</td>\n",
              "      <td>4.03</td>\n",
              "      <td>34.7</td>\n",
              "    </tr>\n",
              "    <tr>\n",
              "      <th>3</th>\n",
              "      <td>0.03237</td>\n",
              "      <td>0.0</td>\n",
              "      <td>2.18</td>\n",
              "      <td>0.0</td>\n",
              "      <td>0.458</td>\n",
              "      <td>6.998</td>\n",
              "      <td>45.8</td>\n",
              "      <td>6.0622</td>\n",
              "      <td>3</td>\n",
              "      <td>222</td>\n",
              "      <td>18.7</td>\n",
              "      <td>394.63</td>\n",
              "      <td>2.94</td>\n",
              "      <td>33.4</td>\n",
              "    </tr>\n",
              "    <tr>\n",
              "      <th>4</th>\n",
              "      <td>0.06905</td>\n",
              "      <td>0.0</td>\n",
              "      <td>2.18</td>\n",
              "      <td>0.0</td>\n",
              "      <td>0.458</td>\n",
              "      <td>7.147</td>\n",
              "      <td>54.2</td>\n",
              "      <td>6.0622</td>\n",
              "      <td>3</td>\n",
              "      <td>222</td>\n",
              "      <td>18.7</td>\n",
              "      <td>396.90</td>\n",
              "      <td>NaN</td>\n",
              "      <td>36.2</td>\n",
              "    </tr>\n",
              "  </tbody>\n",
              "</table>\n",
              "</div>\n",
              "    <div class=\"colab-df-buttons\">\n",
              "\n",
              "  <div class=\"colab-df-container\">\n",
              "    <button class=\"colab-df-convert\" onclick=\"convertToInteractive('df-47fd4fef-fbaf-4e89-a037-28e3e9da7df1')\"\n",
              "            title=\"Convert this dataframe to an interactive table.\"\n",
              "            style=\"display:none;\">\n",
              "\n",
              "  <svg xmlns=\"http://www.w3.org/2000/svg\" height=\"24px\" viewBox=\"0 -960 960 960\">\n",
              "    <path d=\"M120-120v-720h720v720H120Zm60-500h600v-160H180v160Zm220 220h160v-160H400v160Zm0 220h160v-160H400v160ZM180-400h160v-160H180v160Zm440 0h160v-160H620v160ZM180-180h160v-160H180v160Zm440 0h160v-160H620v160Z\"/>\n",
              "  </svg>\n",
              "    </button>\n",
              "\n",
              "  <style>\n",
              "    .colab-df-container {\n",
              "      display:flex;\n",
              "      gap: 12px;\n",
              "    }\n",
              "\n",
              "    .colab-df-convert {\n",
              "      background-color: #E8F0FE;\n",
              "      border: none;\n",
              "      border-radius: 50%;\n",
              "      cursor: pointer;\n",
              "      display: none;\n",
              "      fill: #1967D2;\n",
              "      height: 32px;\n",
              "      padding: 0 0 0 0;\n",
              "      width: 32px;\n",
              "    }\n",
              "\n",
              "    .colab-df-convert:hover {\n",
              "      background-color: #E2EBFA;\n",
              "      box-shadow: 0px 1px 2px rgba(60, 64, 67, 0.3), 0px 1px 3px 1px rgba(60, 64, 67, 0.15);\n",
              "      fill: #174EA6;\n",
              "    }\n",
              "\n",
              "    .colab-df-buttons div {\n",
              "      margin-bottom: 4px;\n",
              "    }\n",
              "\n",
              "    [theme=dark] .colab-df-convert {\n",
              "      background-color: #3B4455;\n",
              "      fill: #D2E3FC;\n",
              "    }\n",
              "\n",
              "    [theme=dark] .colab-df-convert:hover {\n",
              "      background-color: #434B5C;\n",
              "      box-shadow: 0px 1px 3px 1px rgba(0, 0, 0, 0.15);\n",
              "      filter: drop-shadow(0px 1px 2px rgba(0, 0, 0, 0.3));\n",
              "      fill: #FFFFFF;\n",
              "    }\n",
              "  </style>\n",
              "\n",
              "    <script>\n",
              "      const buttonEl =\n",
              "        document.querySelector('#df-47fd4fef-fbaf-4e89-a037-28e3e9da7df1 button.colab-df-convert');\n",
              "      buttonEl.style.display =\n",
              "        google.colab.kernel.accessAllowed ? 'block' : 'none';\n",
              "\n",
              "      async function convertToInteractive(key) {\n",
              "        const element = document.querySelector('#df-47fd4fef-fbaf-4e89-a037-28e3e9da7df1');\n",
              "        const dataTable =\n",
              "          await google.colab.kernel.invokeFunction('convertToInteractive',\n",
              "                                                    [key], {});\n",
              "        if (!dataTable) return;\n",
              "\n",
              "        const docLinkHtml = 'Like what you see? Visit the ' +\n",
              "          '<a target=\"_blank\" href=https://colab.research.google.com/notebooks/data_table.ipynb>data table notebook</a>'\n",
              "          + ' to learn more about interactive tables.';\n",
              "        element.innerHTML = '';\n",
              "        dataTable['output_type'] = 'display_data';\n",
              "        await google.colab.output.renderOutput(dataTable, element);\n",
              "        const docLink = document.createElement('div');\n",
              "        docLink.innerHTML = docLinkHtml;\n",
              "        element.appendChild(docLink);\n",
              "      }\n",
              "    </script>\n",
              "  </div>\n",
              "\n",
              "\n",
              "<div id=\"df-965a9cfc-1387-4b0e-bc7a-5cdd76a6399b\">\n",
              "  <button class=\"colab-df-quickchart\" onclick=\"quickchart('df-965a9cfc-1387-4b0e-bc7a-5cdd76a6399b')\"\n",
              "            title=\"Suggest charts\"\n",
              "            style=\"display:none;\">\n",
              "\n",
              "<svg xmlns=\"http://www.w3.org/2000/svg\" height=\"24px\"viewBox=\"0 0 24 24\"\n",
              "     width=\"24px\">\n",
              "    <g>\n",
              "        <path d=\"M19 3H5c-1.1 0-2 .9-2 2v14c0 1.1.9 2 2 2h14c1.1 0 2-.9 2-2V5c0-1.1-.9-2-2-2zM9 17H7v-7h2v7zm4 0h-2V7h2v10zm4 0h-2v-4h2v4z\"/>\n",
              "    </g>\n",
              "</svg>\n",
              "  </button>\n",
              "\n",
              "<style>\n",
              "  .colab-df-quickchart {\n",
              "      --bg-color: #E8F0FE;\n",
              "      --fill-color: #1967D2;\n",
              "      --hover-bg-color: #E2EBFA;\n",
              "      --hover-fill-color: #174EA6;\n",
              "      --disabled-fill-color: #AAA;\n",
              "      --disabled-bg-color: #DDD;\n",
              "  }\n",
              "\n",
              "  [theme=dark] .colab-df-quickchart {\n",
              "      --bg-color: #3B4455;\n",
              "      --fill-color: #D2E3FC;\n",
              "      --hover-bg-color: #434B5C;\n",
              "      --hover-fill-color: #FFFFFF;\n",
              "      --disabled-bg-color: #3B4455;\n",
              "      --disabled-fill-color: #666;\n",
              "  }\n",
              "\n",
              "  .colab-df-quickchart {\n",
              "    background-color: var(--bg-color);\n",
              "    border: none;\n",
              "    border-radius: 50%;\n",
              "    cursor: pointer;\n",
              "    display: none;\n",
              "    fill: var(--fill-color);\n",
              "    height: 32px;\n",
              "    padding: 0;\n",
              "    width: 32px;\n",
              "  }\n",
              "\n",
              "  .colab-df-quickchart:hover {\n",
              "    background-color: var(--hover-bg-color);\n",
              "    box-shadow: 0 1px 2px rgba(60, 64, 67, 0.3), 0 1px 3px 1px rgba(60, 64, 67, 0.15);\n",
              "    fill: var(--button-hover-fill-color);\n",
              "  }\n",
              "\n",
              "  .colab-df-quickchart-complete:disabled,\n",
              "  .colab-df-quickchart-complete:disabled:hover {\n",
              "    background-color: var(--disabled-bg-color);\n",
              "    fill: var(--disabled-fill-color);\n",
              "    box-shadow: none;\n",
              "  }\n",
              "\n",
              "  .colab-df-spinner {\n",
              "    border: 2px solid var(--fill-color);\n",
              "    border-color: transparent;\n",
              "    border-bottom-color: var(--fill-color);\n",
              "    animation:\n",
              "      spin 1s steps(1) infinite;\n",
              "  }\n",
              "\n",
              "  @keyframes spin {\n",
              "    0% {\n",
              "      border-color: transparent;\n",
              "      border-bottom-color: var(--fill-color);\n",
              "      border-left-color: var(--fill-color);\n",
              "    }\n",
              "    20% {\n",
              "      border-color: transparent;\n",
              "      border-left-color: var(--fill-color);\n",
              "      border-top-color: var(--fill-color);\n",
              "    }\n",
              "    30% {\n",
              "      border-color: transparent;\n",
              "      border-left-color: var(--fill-color);\n",
              "      border-top-color: var(--fill-color);\n",
              "      border-right-color: var(--fill-color);\n",
              "    }\n",
              "    40% {\n",
              "      border-color: transparent;\n",
              "      border-right-color: var(--fill-color);\n",
              "      border-top-color: var(--fill-color);\n",
              "    }\n",
              "    60% {\n",
              "      border-color: transparent;\n",
              "      border-right-color: var(--fill-color);\n",
              "    }\n",
              "    80% {\n",
              "      border-color: transparent;\n",
              "      border-right-color: var(--fill-color);\n",
              "      border-bottom-color: var(--fill-color);\n",
              "    }\n",
              "    90% {\n",
              "      border-color: transparent;\n",
              "      border-bottom-color: var(--fill-color);\n",
              "    }\n",
              "  }\n",
              "</style>\n",
              "\n",
              "  <script>\n",
              "    async function quickchart(key) {\n",
              "      const quickchartButtonEl =\n",
              "        document.querySelector('#' + key + ' button');\n",
              "      quickchartButtonEl.disabled = true;  // To prevent multiple clicks.\n",
              "      quickchartButtonEl.classList.add('colab-df-spinner');\n",
              "      try {\n",
              "        const charts = await google.colab.kernel.invokeFunction(\n",
              "            'suggestCharts', [key], {});\n",
              "      } catch (error) {\n",
              "        console.error('Error during call to suggestCharts:', error);\n",
              "      }\n",
              "      quickchartButtonEl.classList.remove('colab-df-spinner');\n",
              "      quickchartButtonEl.classList.add('colab-df-quickchart-complete');\n",
              "    }\n",
              "    (() => {\n",
              "      let quickchartButtonEl =\n",
              "        document.querySelector('#df-965a9cfc-1387-4b0e-bc7a-5cdd76a6399b button');\n",
              "      quickchartButtonEl.style.display =\n",
              "        google.colab.kernel.accessAllowed ? 'block' : 'none';\n",
              "    })();\n",
              "  </script>\n",
              "</div>\n",
              "\n",
              "    </div>\n",
              "  </div>\n"
            ],
            "application/vnd.google.colaboratory.intrinsic+json": {
              "type": "dataframe",
              "variable_name": "df",
              "summary": "{\n  \"name\": \"df\",\n  \"rows\": 506,\n  \"fields\": [\n    {\n      \"column\": \"CRIM\",\n      \"properties\": {\n        \"dtype\": \"number\",\n        \"std\": 8.720191850151599,\n        \"min\": 0.00632,\n        \"max\": 88.9762,\n        \"num_unique_values\": 484,\n        \"samples\": [\n          15.1772,\n          0.2896,\n          0.08308\n        ],\n        \"semantic_type\": \"\",\n        \"description\": \"\"\n      }\n    },\n    {\n      \"column\": \"ZN\",\n      \"properties\": {\n        \"dtype\": \"number\",\n        \"std\": 23.388876146265478,\n        \"min\": 0.0,\n        \"max\": 100.0,\n        \"num_unique_values\": 26,\n        \"samples\": [\n          25.0,\n          30.0,\n          18.0\n        ],\n        \"semantic_type\": \"\",\n        \"description\": \"\"\n      }\n    },\n    {\n      \"column\": \"INDUS\",\n      \"properties\": {\n        \"dtype\": \"number\",\n        \"std\": 6.83589649864144,\n        \"min\": 0.46,\n        \"max\": 27.74,\n        \"num_unique_values\": 76,\n        \"samples\": [\n          8.14,\n          1.47,\n          1.22\n        ],\n        \"semantic_type\": \"\",\n        \"description\": \"\"\n      }\n    },\n    {\n      \"column\": \"CHAS\",\n      \"properties\": {\n        \"dtype\": \"number\",\n        \"std\": 0.2553404809065679,\n        \"min\": 0.0,\n        \"max\": 1.0,\n        \"num_unique_values\": 2,\n        \"samples\": [\n          1.0,\n          0.0\n        ],\n        \"semantic_type\": \"\",\n        \"description\": \"\"\n      }\n    },\n    {\n      \"column\": \"NOX\",\n      \"properties\": {\n        \"dtype\": \"number\",\n        \"std\": 0.11587767566755595,\n        \"min\": 0.385,\n        \"max\": 0.871,\n        \"num_unique_values\": 81,\n        \"samples\": [\n          0.401,\n          0.538\n        ],\n        \"semantic_type\": \"\",\n        \"description\": \"\"\n      }\n    },\n    {\n      \"column\": \"RM\",\n      \"properties\": {\n        \"dtype\": \"number\",\n        \"std\": 0.7026171434153233,\n        \"min\": 3.561,\n        \"max\": 8.78,\n        \"num_unique_values\": 446,\n        \"samples\": [\n          6.849,\n          4.88\n        ],\n        \"semantic_type\": \"\",\n        \"description\": \"\"\n      }\n    },\n    {\n      \"column\": \"AGE\",\n      \"properties\": {\n        \"dtype\": \"number\",\n        \"std\": 27.99951300509237,\n        \"min\": 2.9,\n        \"max\": 100.0,\n        \"num_unique_values\": 348,\n        \"samples\": [\n          82.8,\n          88.4\n        ],\n        \"semantic_type\": \"\",\n        \"description\": \"\"\n      }\n    },\n    {\n      \"column\": \"DIS\",\n      \"properties\": {\n        \"dtype\": \"number\",\n        \"std\": 2.105710126627611,\n        \"min\": 1.1296,\n        \"max\": 12.1265,\n        \"num_unique_values\": 412,\n        \"samples\": [\n          2.2955,\n          4.2515\n        ],\n        \"semantic_type\": \"\",\n        \"description\": \"\"\n      }\n    },\n    {\n      \"column\": \"RAD\",\n      \"properties\": {\n        \"dtype\": \"number\",\n        \"std\": 8,\n        \"min\": 1,\n        \"max\": 24,\n        \"num_unique_values\": 9,\n        \"samples\": [\n          7,\n          2\n        ],\n        \"semantic_type\": \"\",\n        \"description\": \"\"\n      }\n    },\n    {\n      \"column\": \"TAX\",\n      \"properties\": {\n        \"dtype\": \"number\",\n        \"std\": 168,\n        \"min\": 187,\n        \"max\": 711,\n        \"num_unique_values\": 66,\n        \"samples\": [\n          370,\n          666\n        ],\n        \"semantic_type\": \"\",\n        \"description\": \"\"\n      }\n    },\n    {\n      \"column\": \"PTRATIO\",\n      \"properties\": {\n        \"dtype\": \"number\",\n        \"std\": 2.1649455237144406,\n        \"min\": 12.6,\n        \"max\": 22.0,\n        \"num_unique_values\": 46,\n        \"samples\": [\n          19.6,\n          15.6\n        ],\n        \"semantic_type\": \"\",\n        \"description\": \"\"\n      }\n    },\n    {\n      \"column\": \"B\",\n      \"properties\": {\n        \"dtype\": \"number\",\n        \"std\": 91.29486438415783,\n        \"min\": 0.32,\n        \"max\": 396.9,\n        \"num_unique_values\": 357,\n        \"samples\": [\n          396.24,\n          395.11\n        ],\n        \"semantic_type\": \"\",\n        \"description\": \"\"\n      }\n    },\n    {\n      \"column\": \"LSTAT\",\n      \"properties\": {\n        \"dtype\": \"number\",\n        \"std\": 7.155870815805251,\n        \"min\": 1.73,\n        \"max\": 37.97,\n        \"num_unique_values\": 438,\n        \"samples\": [\n          26.64,\n          7.51\n        ],\n        \"semantic_type\": \"\",\n        \"description\": \"\"\n      }\n    },\n    {\n      \"column\": \"MEDV\",\n      \"properties\": {\n        \"dtype\": \"number\",\n        \"std\": 9.197104087379818,\n        \"min\": 5.0,\n        \"max\": 50.0,\n        \"num_unique_values\": 229,\n        \"samples\": [\n          14.1,\n          22.5\n        ],\n        \"semantic_type\": \"\",\n        \"description\": \"\"\n      }\n    }\n  ]\n}"
            }
          },
          "metadata": {},
          "execution_count": 3
        }
      ]
    },
    {
      "cell_type": "code",
      "source": [
        "df.info()"
      ],
      "metadata": {
        "colab": {
          "base_uri": "https://localhost:8080/"
        },
        "id": "1CtEda4zBg_V",
        "outputId": "a3549612-ca5f-4eb7-bc7a-044383fcc7a7"
      },
      "execution_count": 4,
      "outputs": [
        {
          "output_type": "stream",
          "name": "stdout",
          "text": [
            "<class 'pandas.core.frame.DataFrame'>\n",
            "RangeIndex: 506 entries, 0 to 505\n",
            "Data columns (total 14 columns):\n",
            " #   Column   Non-Null Count  Dtype  \n",
            "---  ------   --------------  -----  \n",
            " 0   CRIM     486 non-null    float64\n",
            " 1   ZN       486 non-null    float64\n",
            " 2   INDUS    486 non-null    float64\n",
            " 3   CHAS     486 non-null    float64\n",
            " 4   NOX      506 non-null    float64\n",
            " 5   RM       506 non-null    float64\n",
            " 6   AGE      486 non-null    float64\n",
            " 7   DIS      506 non-null    float64\n",
            " 8   RAD      506 non-null    int64  \n",
            " 9   TAX      506 non-null    int64  \n",
            " 10  PTRATIO  506 non-null    float64\n",
            " 11  B        506 non-null    float64\n",
            " 12  LSTAT    486 non-null    float64\n",
            " 13  MEDV     506 non-null    float64\n",
            "dtypes: float64(12), int64(2)\n",
            "memory usage: 55.5 KB\n"
          ]
        }
      ]
    },
    {
      "cell_type": "code",
      "source": [
        "df = df.astype({'RAD':float, 'TAX':float})\n",
        "df.info()"
      ],
      "metadata": {
        "colab": {
          "base_uri": "https://localhost:8080/"
        },
        "id": "lzZLQw2JTqCs",
        "outputId": "0201f531-57a5-446b-cdb1-c0599948b46a"
      },
      "execution_count": 5,
      "outputs": [
        {
          "output_type": "stream",
          "name": "stdout",
          "text": [
            "<class 'pandas.core.frame.DataFrame'>\n",
            "RangeIndex: 506 entries, 0 to 505\n",
            "Data columns (total 14 columns):\n",
            " #   Column   Non-Null Count  Dtype  \n",
            "---  ------   --------------  -----  \n",
            " 0   CRIM     486 non-null    float64\n",
            " 1   ZN       486 non-null    float64\n",
            " 2   INDUS    486 non-null    float64\n",
            " 3   CHAS     486 non-null    float64\n",
            " 4   NOX      506 non-null    float64\n",
            " 5   RM       506 non-null    float64\n",
            " 6   AGE      486 non-null    float64\n",
            " 7   DIS      506 non-null    float64\n",
            " 8   RAD      506 non-null    float64\n",
            " 9   TAX      506 non-null    float64\n",
            " 10  PTRATIO  506 non-null    float64\n",
            " 11  B        506 non-null    float64\n",
            " 12  LSTAT    486 non-null    float64\n",
            " 13  MEDV     506 non-null    float64\n",
            "dtypes: float64(14)\n",
            "memory usage: 55.5 KB\n"
          ]
        }
      ]
    },
    {
      "cell_type": "code",
      "source": [
        "# shape of the dataset\n",
        "print(df.shape)\n",
        "print('Number of Rows:', df.shape[0])\n",
        "print('Number of columns:', df.shape[1])"
      ],
      "metadata": {
        "colab": {
          "base_uri": "https://localhost:8080/"
        },
        "id": "PfjImNbOAnsD",
        "outputId": "7c2d8197-a36a-4582-9063-63922a81262b"
      },
      "execution_count": 6,
      "outputs": [
        {
          "output_type": "stream",
          "name": "stdout",
          "text": [
            "(506, 14)\n",
            "Number of Rows: 506\n",
            "Number of columns: 14\n"
          ]
        }
      ]
    },
    {
      "cell_type": "code",
      "source": [
        "# summary statistics\n",
        "df.describe()"
      ],
      "metadata": {
        "colab": {
          "base_uri": "https://localhost:8080/",
          "height": 301
        },
        "id": "0N7M2TGxBcjl",
        "outputId": "45bcb8e1-0087-4559-b039-06fc2a5538ad"
      },
      "execution_count": 7,
      "outputs": [
        {
          "output_type": "execute_result",
          "data": {
            "text/plain": [
              "             CRIM          ZN       INDUS        CHAS         NOX          RM  \\\n",
              "count  486.000000  486.000000  486.000000  486.000000  506.000000  506.000000   \n",
              "mean     3.611874   11.211934   11.083992    0.069959    0.554695    6.284634   \n",
              "std      8.720192   23.388876    6.835896    0.255340    0.115878    0.702617   \n",
              "min      0.006320    0.000000    0.460000    0.000000    0.385000    3.561000   \n",
              "25%      0.081900    0.000000    5.190000    0.000000    0.449000    5.885500   \n",
              "50%      0.253715    0.000000    9.690000    0.000000    0.538000    6.208500   \n",
              "75%      3.560263   12.500000   18.100000    0.000000    0.624000    6.623500   \n",
              "max     88.976200  100.000000   27.740000    1.000000    0.871000    8.780000   \n",
              "\n",
              "              AGE         DIS         RAD         TAX     PTRATIO           B  \\\n",
              "count  486.000000  506.000000  506.000000  506.000000  506.000000  506.000000   \n",
              "mean    68.518519    3.795043    9.549407  408.237154   18.455534  356.674032   \n",
              "std     27.999513    2.105710    8.707259  168.537116    2.164946   91.294864   \n",
              "min      2.900000    1.129600    1.000000  187.000000   12.600000    0.320000   \n",
              "25%     45.175000    2.100175    4.000000  279.000000   17.400000  375.377500   \n",
              "50%     76.800000    3.207450    5.000000  330.000000   19.050000  391.440000   \n",
              "75%     93.975000    5.188425   24.000000  666.000000   20.200000  396.225000   \n",
              "max    100.000000   12.126500   24.000000  711.000000   22.000000  396.900000   \n",
              "\n",
              "            LSTAT        MEDV  \n",
              "count  486.000000  506.000000  \n",
              "mean    12.715432   22.532806  \n",
              "std      7.155871    9.197104  \n",
              "min      1.730000    5.000000  \n",
              "25%      7.125000   17.025000  \n",
              "50%     11.430000   21.200000  \n",
              "75%     16.955000   25.000000  \n",
              "max     37.970000   50.000000  "
            ],
            "text/html": [
              "\n",
              "  <div id=\"df-76101056-5bd5-4c2b-865f-e62c7c350f2c\" class=\"colab-df-container\">\n",
              "    <div>\n",
              "<style scoped>\n",
              "    .dataframe tbody tr th:only-of-type {\n",
              "        vertical-align: middle;\n",
              "    }\n",
              "\n",
              "    .dataframe tbody tr th {\n",
              "        vertical-align: top;\n",
              "    }\n",
              "\n",
              "    .dataframe thead th {\n",
              "        text-align: right;\n",
              "    }\n",
              "</style>\n",
              "<table border=\"1\" class=\"dataframe\">\n",
              "  <thead>\n",
              "    <tr style=\"text-align: right;\">\n",
              "      <th></th>\n",
              "      <th>CRIM</th>\n",
              "      <th>ZN</th>\n",
              "      <th>INDUS</th>\n",
              "      <th>CHAS</th>\n",
              "      <th>NOX</th>\n",
              "      <th>RM</th>\n",
              "      <th>AGE</th>\n",
              "      <th>DIS</th>\n",
              "      <th>RAD</th>\n",
              "      <th>TAX</th>\n",
              "      <th>PTRATIO</th>\n",
              "      <th>B</th>\n",
              "      <th>LSTAT</th>\n",
              "      <th>MEDV</th>\n",
              "    </tr>\n",
              "  </thead>\n",
              "  <tbody>\n",
              "    <tr>\n",
              "      <th>count</th>\n",
              "      <td>486.000000</td>\n",
              "      <td>486.000000</td>\n",
              "      <td>486.000000</td>\n",
              "      <td>486.000000</td>\n",
              "      <td>506.000000</td>\n",
              "      <td>506.000000</td>\n",
              "      <td>486.000000</td>\n",
              "      <td>506.000000</td>\n",
              "      <td>506.000000</td>\n",
              "      <td>506.000000</td>\n",
              "      <td>506.000000</td>\n",
              "      <td>506.000000</td>\n",
              "      <td>486.000000</td>\n",
              "      <td>506.000000</td>\n",
              "    </tr>\n",
              "    <tr>\n",
              "      <th>mean</th>\n",
              "      <td>3.611874</td>\n",
              "      <td>11.211934</td>\n",
              "      <td>11.083992</td>\n",
              "      <td>0.069959</td>\n",
              "      <td>0.554695</td>\n",
              "      <td>6.284634</td>\n",
              "      <td>68.518519</td>\n",
              "      <td>3.795043</td>\n",
              "      <td>9.549407</td>\n",
              "      <td>408.237154</td>\n",
              "      <td>18.455534</td>\n",
              "      <td>356.674032</td>\n",
              "      <td>12.715432</td>\n",
              "      <td>22.532806</td>\n",
              "    </tr>\n",
              "    <tr>\n",
              "      <th>std</th>\n",
              "      <td>8.720192</td>\n",
              "      <td>23.388876</td>\n",
              "      <td>6.835896</td>\n",
              "      <td>0.255340</td>\n",
              "      <td>0.115878</td>\n",
              "      <td>0.702617</td>\n",
              "      <td>27.999513</td>\n",
              "      <td>2.105710</td>\n",
              "      <td>8.707259</td>\n",
              "      <td>168.537116</td>\n",
              "      <td>2.164946</td>\n",
              "      <td>91.294864</td>\n",
              "      <td>7.155871</td>\n",
              "      <td>9.197104</td>\n",
              "    </tr>\n",
              "    <tr>\n",
              "      <th>min</th>\n",
              "      <td>0.006320</td>\n",
              "      <td>0.000000</td>\n",
              "      <td>0.460000</td>\n",
              "      <td>0.000000</td>\n",
              "      <td>0.385000</td>\n",
              "      <td>3.561000</td>\n",
              "      <td>2.900000</td>\n",
              "      <td>1.129600</td>\n",
              "      <td>1.000000</td>\n",
              "      <td>187.000000</td>\n",
              "      <td>12.600000</td>\n",
              "      <td>0.320000</td>\n",
              "      <td>1.730000</td>\n",
              "      <td>5.000000</td>\n",
              "    </tr>\n",
              "    <tr>\n",
              "      <th>25%</th>\n",
              "      <td>0.081900</td>\n",
              "      <td>0.000000</td>\n",
              "      <td>5.190000</td>\n",
              "      <td>0.000000</td>\n",
              "      <td>0.449000</td>\n",
              "      <td>5.885500</td>\n",
              "      <td>45.175000</td>\n",
              "      <td>2.100175</td>\n",
              "      <td>4.000000</td>\n",
              "      <td>279.000000</td>\n",
              "      <td>17.400000</td>\n",
              "      <td>375.377500</td>\n",
              "      <td>7.125000</td>\n",
              "      <td>17.025000</td>\n",
              "    </tr>\n",
              "    <tr>\n",
              "      <th>50%</th>\n",
              "      <td>0.253715</td>\n",
              "      <td>0.000000</td>\n",
              "      <td>9.690000</td>\n",
              "      <td>0.000000</td>\n",
              "      <td>0.538000</td>\n",
              "      <td>6.208500</td>\n",
              "      <td>76.800000</td>\n",
              "      <td>3.207450</td>\n",
              "      <td>5.000000</td>\n",
              "      <td>330.000000</td>\n",
              "      <td>19.050000</td>\n",
              "      <td>391.440000</td>\n",
              "      <td>11.430000</td>\n",
              "      <td>21.200000</td>\n",
              "    </tr>\n",
              "    <tr>\n",
              "      <th>75%</th>\n",
              "      <td>3.560263</td>\n",
              "      <td>12.500000</td>\n",
              "      <td>18.100000</td>\n",
              "      <td>0.000000</td>\n",
              "      <td>0.624000</td>\n",
              "      <td>6.623500</td>\n",
              "      <td>93.975000</td>\n",
              "      <td>5.188425</td>\n",
              "      <td>24.000000</td>\n",
              "      <td>666.000000</td>\n",
              "      <td>20.200000</td>\n",
              "      <td>396.225000</td>\n",
              "      <td>16.955000</td>\n",
              "      <td>25.000000</td>\n",
              "    </tr>\n",
              "    <tr>\n",
              "      <th>max</th>\n",
              "      <td>88.976200</td>\n",
              "      <td>100.000000</td>\n",
              "      <td>27.740000</td>\n",
              "      <td>1.000000</td>\n",
              "      <td>0.871000</td>\n",
              "      <td>8.780000</td>\n",
              "      <td>100.000000</td>\n",
              "      <td>12.126500</td>\n",
              "      <td>24.000000</td>\n",
              "      <td>711.000000</td>\n",
              "      <td>22.000000</td>\n",
              "      <td>396.900000</td>\n",
              "      <td>37.970000</td>\n",
              "      <td>50.000000</td>\n",
              "    </tr>\n",
              "  </tbody>\n",
              "</table>\n",
              "</div>\n",
              "    <div class=\"colab-df-buttons\">\n",
              "\n",
              "  <div class=\"colab-df-container\">\n",
              "    <button class=\"colab-df-convert\" onclick=\"convertToInteractive('df-76101056-5bd5-4c2b-865f-e62c7c350f2c')\"\n",
              "            title=\"Convert this dataframe to an interactive table.\"\n",
              "            style=\"display:none;\">\n",
              "\n",
              "  <svg xmlns=\"http://www.w3.org/2000/svg\" height=\"24px\" viewBox=\"0 -960 960 960\">\n",
              "    <path d=\"M120-120v-720h720v720H120Zm60-500h600v-160H180v160Zm220 220h160v-160H400v160Zm0 220h160v-160H400v160ZM180-400h160v-160H180v160Zm440 0h160v-160H620v160ZM180-180h160v-160H180v160Zm440 0h160v-160H620v160Z\"/>\n",
              "  </svg>\n",
              "    </button>\n",
              "\n",
              "  <style>\n",
              "    .colab-df-container {\n",
              "      display:flex;\n",
              "      gap: 12px;\n",
              "    }\n",
              "\n",
              "    .colab-df-convert {\n",
              "      background-color: #E8F0FE;\n",
              "      border: none;\n",
              "      border-radius: 50%;\n",
              "      cursor: pointer;\n",
              "      display: none;\n",
              "      fill: #1967D2;\n",
              "      height: 32px;\n",
              "      padding: 0 0 0 0;\n",
              "      width: 32px;\n",
              "    }\n",
              "\n",
              "    .colab-df-convert:hover {\n",
              "      background-color: #E2EBFA;\n",
              "      box-shadow: 0px 1px 2px rgba(60, 64, 67, 0.3), 0px 1px 3px 1px rgba(60, 64, 67, 0.15);\n",
              "      fill: #174EA6;\n",
              "    }\n",
              "\n",
              "    .colab-df-buttons div {\n",
              "      margin-bottom: 4px;\n",
              "    }\n",
              "\n",
              "    [theme=dark] .colab-df-convert {\n",
              "      background-color: #3B4455;\n",
              "      fill: #D2E3FC;\n",
              "    }\n",
              "\n",
              "    [theme=dark] .colab-df-convert:hover {\n",
              "      background-color: #434B5C;\n",
              "      box-shadow: 0px 1px 3px 1px rgba(0, 0, 0, 0.15);\n",
              "      filter: drop-shadow(0px 1px 2px rgba(0, 0, 0, 0.3));\n",
              "      fill: #FFFFFF;\n",
              "    }\n",
              "  </style>\n",
              "\n",
              "    <script>\n",
              "      const buttonEl =\n",
              "        document.querySelector('#df-76101056-5bd5-4c2b-865f-e62c7c350f2c button.colab-df-convert');\n",
              "      buttonEl.style.display =\n",
              "        google.colab.kernel.accessAllowed ? 'block' : 'none';\n",
              "\n",
              "      async function convertToInteractive(key) {\n",
              "        const element = document.querySelector('#df-76101056-5bd5-4c2b-865f-e62c7c350f2c');\n",
              "        const dataTable =\n",
              "          await google.colab.kernel.invokeFunction('convertToInteractive',\n",
              "                                                    [key], {});\n",
              "        if (!dataTable) return;\n",
              "\n",
              "        const docLinkHtml = 'Like what you see? Visit the ' +\n",
              "          '<a target=\"_blank\" href=https://colab.research.google.com/notebooks/data_table.ipynb>data table notebook</a>'\n",
              "          + ' to learn more about interactive tables.';\n",
              "        element.innerHTML = '';\n",
              "        dataTable['output_type'] = 'display_data';\n",
              "        await google.colab.output.renderOutput(dataTable, element);\n",
              "        const docLink = document.createElement('div');\n",
              "        docLink.innerHTML = docLinkHtml;\n",
              "        element.appendChild(docLink);\n",
              "      }\n",
              "    </script>\n",
              "  </div>\n",
              "\n",
              "\n",
              "<div id=\"df-e13152d6-76e4-4032-80a1-68560b365405\">\n",
              "  <button class=\"colab-df-quickchart\" onclick=\"quickchart('df-e13152d6-76e4-4032-80a1-68560b365405')\"\n",
              "            title=\"Suggest charts\"\n",
              "            style=\"display:none;\">\n",
              "\n",
              "<svg xmlns=\"http://www.w3.org/2000/svg\" height=\"24px\"viewBox=\"0 0 24 24\"\n",
              "     width=\"24px\">\n",
              "    <g>\n",
              "        <path d=\"M19 3H5c-1.1 0-2 .9-2 2v14c0 1.1.9 2 2 2h14c1.1 0 2-.9 2-2V5c0-1.1-.9-2-2-2zM9 17H7v-7h2v7zm4 0h-2V7h2v10zm4 0h-2v-4h2v4z\"/>\n",
              "    </g>\n",
              "</svg>\n",
              "  </button>\n",
              "\n",
              "<style>\n",
              "  .colab-df-quickchart {\n",
              "      --bg-color: #E8F0FE;\n",
              "      --fill-color: #1967D2;\n",
              "      --hover-bg-color: #E2EBFA;\n",
              "      --hover-fill-color: #174EA6;\n",
              "      --disabled-fill-color: #AAA;\n",
              "      --disabled-bg-color: #DDD;\n",
              "  }\n",
              "\n",
              "  [theme=dark] .colab-df-quickchart {\n",
              "      --bg-color: #3B4455;\n",
              "      --fill-color: #D2E3FC;\n",
              "      --hover-bg-color: #434B5C;\n",
              "      --hover-fill-color: #FFFFFF;\n",
              "      --disabled-bg-color: #3B4455;\n",
              "      --disabled-fill-color: #666;\n",
              "  }\n",
              "\n",
              "  .colab-df-quickchart {\n",
              "    background-color: var(--bg-color);\n",
              "    border: none;\n",
              "    border-radius: 50%;\n",
              "    cursor: pointer;\n",
              "    display: none;\n",
              "    fill: var(--fill-color);\n",
              "    height: 32px;\n",
              "    padding: 0;\n",
              "    width: 32px;\n",
              "  }\n",
              "\n",
              "  .colab-df-quickchart:hover {\n",
              "    background-color: var(--hover-bg-color);\n",
              "    box-shadow: 0 1px 2px rgba(60, 64, 67, 0.3), 0 1px 3px 1px rgba(60, 64, 67, 0.15);\n",
              "    fill: var(--button-hover-fill-color);\n",
              "  }\n",
              "\n",
              "  .colab-df-quickchart-complete:disabled,\n",
              "  .colab-df-quickchart-complete:disabled:hover {\n",
              "    background-color: var(--disabled-bg-color);\n",
              "    fill: var(--disabled-fill-color);\n",
              "    box-shadow: none;\n",
              "  }\n",
              "\n",
              "  .colab-df-spinner {\n",
              "    border: 2px solid var(--fill-color);\n",
              "    border-color: transparent;\n",
              "    border-bottom-color: var(--fill-color);\n",
              "    animation:\n",
              "      spin 1s steps(1) infinite;\n",
              "  }\n",
              "\n",
              "  @keyframes spin {\n",
              "    0% {\n",
              "      border-color: transparent;\n",
              "      border-bottom-color: var(--fill-color);\n",
              "      border-left-color: var(--fill-color);\n",
              "    }\n",
              "    20% {\n",
              "      border-color: transparent;\n",
              "      border-left-color: var(--fill-color);\n",
              "      border-top-color: var(--fill-color);\n",
              "    }\n",
              "    30% {\n",
              "      border-color: transparent;\n",
              "      border-left-color: var(--fill-color);\n",
              "      border-top-color: var(--fill-color);\n",
              "      border-right-color: var(--fill-color);\n",
              "    }\n",
              "    40% {\n",
              "      border-color: transparent;\n",
              "      border-right-color: var(--fill-color);\n",
              "      border-top-color: var(--fill-color);\n",
              "    }\n",
              "    60% {\n",
              "      border-color: transparent;\n",
              "      border-right-color: var(--fill-color);\n",
              "    }\n",
              "    80% {\n",
              "      border-color: transparent;\n",
              "      border-right-color: var(--fill-color);\n",
              "      border-bottom-color: var(--fill-color);\n",
              "    }\n",
              "    90% {\n",
              "      border-color: transparent;\n",
              "      border-bottom-color: var(--fill-color);\n",
              "    }\n",
              "  }\n",
              "</style>\n",
              "\n",
              "  <script>\n",
              "    async function quickchart(key) {\n",
              "      const quickchartButtonEl =\n",
              "        document.querySelector('#' + key + ' button');\n",
              "      quickchartButtonEl.disabled = true;  // To prevent multiple clicks.\n",
              "      quickchartButtonEl.classList.add('colab-df-spinner');\n",
              "      try {\n",
              "        const charts = await google.colab.kernel.invokeFunction(\n",
              "            'suggestCharts', [key], {});\n",
              "      } catch (error) {\n",
              "        console.error('Error during call to suggestCharts:', error);\n",
              "      }\n",
              "      quickchartButtonEl.classList.remove('colab-df-spinner');\n",
              "      quickchartButtonEl.classList.add('colab-df-quickchart-complete');\n",
              "    }\n",
              "    (() => {\n",
              "      let quickchartButtonEl =\n",
              "        document.querySelector('#df-e13152d6-76e4-4032-80a1-68560b365405 button');\n",
              "      quickchartButtonEl.style.display =\n",
              "        google.colab.kernel.accessAllowed ? 'block' : 'none';\n",
              "    })();\n",
              "  </script>\n",
              "</div>\n",
              "\n",
              "    </div>\n",
              "  </div>\n"
            ],
            "application/vnd.google.colaboratory.intrinsic+json": {
              "type": "dataframe",
              "summary": "{\n  \"name\": \"df\",\n  \"rows\": 8,\n  \"fields\": [\n    {\n      \"column\": \"CRIM\",\n      \"properties\": {\n        \"dtype\": \"number\",\n        \"std\": 169.25187133013577,\n        \"min\": 0.00632,\n        \"max\": 486.0,\n        \"num_unique_values\": 8,\n        \"samples\": [\n          3.6118739711934156,\n          0.253715,\n          486.0\n        ],\n        \"semantic_type\": \"\",\n        \"description\": \"\"\n      }\n    },\n    {\n      \"column\": \"ZN\",\n      \"properties\": {\n        \"dtype\": \"number\",\n        \"std\": 167.72550598019168,\n        \"min\": 0.0,\n        \"max\": 486.0,\n        \"num_unique_values\": 6,\n        \"samples\": [\n          486.0,\n          11.2119341563786,\n          100.0\n        ],\n        \"semantic_type\": \"\",\n        \"description\": \"\"\n      }\n    },\n    {\n      \"column\": \"INDUS\",\n      \"properties\": {\n        \"dtype\": \"number\",\n        \"std\": 168.04187840679887,\n        \"min\": 0.46,\n        \"max\": 486.0,\n        \"num_unique_values\": 8,\n        \"samples\": [\n          11.083991769547325,\n          9.69,\n          486.0\n        ],\n        \"semantic_type\": \"\",\n        \"description\": \"\"\n      }\n    },\n    {\n      \"column\": \"CHAS\",\n      \"properties\": {\n        \"dtype\": \"number\",\n        \"std\": 171.76035076827358,\n        \"min\": 0.0,\n        \"max\": 486.0,\n        \"num_unique_values\": 5,\n        \"samples\": [\n          0.06995884773662552,\n          1.0,\n          0.2553404809065679\n        ],\n        \"semantic_type\": \"\",\n        \"description\": \"\"\n      }\n    },\n    {\n      \"column\": \"NOX\",\n      \"properties\": {\n        \"dtype\": \"number\",\n        \"std\": 178.71946937975397,\n        \"min\": 0.11587767566755595,\n        \"max\": 506.0,\n        \"num_unique_values\": 8,\n        \"samples\": [\n          0.5546950592885376,\n          0.538,\n          506.0\n        ],\n        \"semantic_type\": \"\",\n        \"description\": \"\"\n      }\n    },\n    {\n      \"column\": \"RM\",\n      \"properties\": {\n        \"dtype\": \"number\",\n        \"std\": 176.99257138815915,\n        \"min\": 0.7026171434153233,\n        \"max\": 506.0,\n        \"num_unique_values\": 8,\n        \"samples\": [\n          6.284634387351779,\n          6.2085,\n          506.0\n        ],\n        \"semantic_type\": \"\",\n        \"description\": \"\"\n      }\n    },\n    {\n      \"column\": \"AGE\",\n      \"properties\": {\n        \"dtype\": \"number\",\n        \"std\": 154.40921989815675,\n        \"min\": 2.9,\n        \"max\": 486.0,\n        \"num_unique_values\": 8,\n        \"samples\": [\n          68.51851851851852,\n          76.80000000000001,\n          486.0\n        ],\n        \"semantic_type\": \"\",\n        \"description\": \"\"\n      }\n    },\n    {\n      \"column\": \"DIS\",\n      \"properties\": {\n        \"dtype\": \"number\",\n        \"std\": 177.4338019618181,\n        \"min\": 1.1296,\n        \"max\": 506.0,\n        \"num_unique_values\": 8,\n        \"samples\": [\n          3.795042687747036,\n          3.2074499999999997,\n          506.0\n        ],\n        \"semantic_type\": \"\",\n        \"description\": \"\"\n      }\n    },\n    {\n      \"column\": \"RAD\",\n      \"properties\": {\n        \"dtype\": \"number\",\n        \"std\": 175.26272292595036,\n        \"min\": 1.0,\n        \"max\": 506.0,\n        \"num_unique_values\": 7,\n        \"samples\": [\n          506.0,\n          9.549407114624506,\n          5.0\n        ],\n        \"semantic_type\": \"\",\n        \"description\": \"\"\n      }\n    },\n    {\n      \"column\": \"TAX\",\n      \"properties\": {\n        \"dtype\": \"number\",\n        \"std\": 205.93933614417858,\n        \"min\": 168.53711605495903,\n        \"max\": 711.0,\n        \"num_unique_values\": 8,\n        \"samples\": [\n          408.2371541501976,\n          330.0,\n          506.0\n        ],\n        \"semantic_type\": \"\",\n        \"description\": \"\"\n      }\n    },\n    {\n      \"column\": \"PTRATIO\",\n      \"properties\": {\n        \"dtype\": \"number\",\n        \"std\": 173.36059244426346,\n        \"min\": 2.1649455237144406,\n        \"max\": 506.0,\n        \"num_unique_values\": 8,\n        \"samples\": [\n          18.455533596837945,\n          19.05,\n          506.0\n        ],\n        \"semantic_type\": \"\",\n        \"description\": \"\"\n      }\n    },\n    {\n      \"column\": \"B\",\n      \"properties\": {\n        \"dtype\": \"number\",\n        \"std\": 173.23587641654387,\n        \"min\": 0.32,\n        \"max\": 506.0,\n        \"num_unique_values\": 8,\n        \"samples\": [\n          356.6740316205534,\n          391.44,\n          506.0\n        ],\n        \"semantic_type\": \"\",\n        \"description\": \"\"\n      }\n    },\n    {\n      \"column\": \"LSTAT\",\n      \"properties\": {\n        \"dtype\": \"number\",\n        \"std\": 167.3813225525045,\n        \"min\": 1.73,\n        \"max\": 486.0,\n        \"num_unique_values\": 8,\n        \"samples\": [\n          12.715432098765433,\n          11.43,\n          486.0\n        ],\n        \"semantic_type\": \"\",\n        \"description\": \"\"\n      }\n    },\n    {\n      \"column\": \"MEDV\",\n      \"properties\": {\n        \"dtype\": \"number\",\n        \"std\": 171.852511161592,\n        \"min\": 5.0,\n        \"max\": 506.0,\n        \"num_unique_values\": 8,\n        \"samples\": [\n          22.532806324110677,\n          21.2,\n          506.0\n        ],\n        \"semantic_type\": \"\",\n        \"description\": \"\"\n      }\n    }\n  ]\n}"
            }
          },
          "metadata": {},
          "execution_count": 7
        }
      ]
    },
    {
      "cell_type": "markdown",
      "source": [
        "## **Data Preprocessing**"
      ],
      "metadata": {
        "id": "OS1KTznEClhb"
      }
    },
    {
      "cell_type": "markdown",
      "source": [
        "### **Handing duplicated values**"
      ],
      "metadata": {
        "id": "s0V6GCbwCpVD"
      }
    },
    {
      "cell_type": "code",
      "source": [
        "# checking for duplicated rows\n",
        "df.duplicated().sum()"
      ],
      "metadata": {
        "colab": {
          "base_uri": "https://localhost:8080/"
        },
        "id": "2rHEZq_yCnMG",
        "outputId": "e2b7a861-b0f6-4656-b373-0c5e434d42ed"
      },
      "execution_count": 8,
      "outputs": [
        {
          "output_type": "execute_result",
          "data": {
            "text/plain": [
              "0"
            ]
          },
          "metadata": {},
          "execution_count": 8
        }
      ]
    },
    {
      "cell_type": "markdown",
      "source": [
        "### **Handling missing values**"
      ],
      "metadata": {
        "id": "9X-hPI2FWAma"
      }
    },
    {
      "cell_type": "code",
      "source": [
        "# checking for the missing values\n",
        "df.isnull().sum()"
      ],
      "metadata": {
        "colab": {
          "base_uri": "https://localhost:8080/"
        },
        "id": "aygoeI0gIo4T",
        "outputId": "03d5e5c8-a898-4e37-c3ff-72c4a889170c"
      },
      "execution_count": 9,
      "outputs": [
        {
          "output_type": "execute_result",
          "data": {
            "text/plain": [
              "CRIM       20\n",
              "ZN         20\n",
              "INDUS      20\n",
              "CHAS       20\n",
              "NOX         0\n",
              "RM          0\n",
              "AGE        20\n",
              "DIS         0\n",
              "RAD         0\n",
              "TAX         0\n",
              "PTRATIO     0\n",
              "B           0\n",
              "LSTAT      20\n",
              "MEDV        0\n",
              "dtype: int64"
            ]
          },
          "metadata": {},
          "execution_count": 9
        }
      ]
    },
    {
      "cell_type": "code",
      "source": [
        "# percentages of missing values\n",
        "df.isnull().sum() / len(df) * 100"
      ],
      "metadata": {
        "colab": {
          "base_uri": "https://localhost:8080/"
        },
        "id": "Zl0PGG8eRQ7Y",
        "outputId": "f31b6c8c-d907-4618-fcc7-bd0510565a38"
      },
      "execution_count": 10,
      "outputs": [
        {
          "output_type": "execute_result",
          "data": {
            "text/plain": [
              "CRIM       3.952569\n",
              "ZN         3.952569\n",
              "INDUS      3.952569\n",
              "CHAS       3.952569\n",
              "NOX        0.000000\n",
              "RM         0.000000\n",
              "AGE        3.952569\n",
              "DIS        0.000000\n",
              "RAD        0.000000\n",
              "TAX        0.000000\n",
              "PTRATIO    0.000000\n",
              "B          0.000000\n",
              "LSTAT      3.952569\n",
              "MEDV       0.000000\n",
              "dtype: float64"
            ]
          },
          "metadata": {},
          "execution_count": 10
        }
      ]
    },
    {
      "cell_type": "markdown",
      "source": [
        "Since the percentage of missing values in these columns are less than 5%, it is acceptable to drop the corresponding rows."
      ],
      "metadata": {
        "id": "0mBlB8_HRVOq"
      }
    },
    {
      "cell_type": "code",
      "source": [
        "df = df.dropna()\n",
        "df.isnull().sum()"
      ],
      "metadata": {
        "colab": {
          "base_uri": "https://localhost:8080/"
        },
        "id": "YXKEKA1BRdUd",
        "outputId": "73894580-a73a-4aea-b08f-18a47025a2e9"
      },
      "execution_count": 11,
      "outputs": [
        {
          "output_type": "execute_result",
          "data": {
            "text/plain": [
              "CRIM       0\n",
              "ZN         0\n",
              "INDUS      0\n",
              "CHAS       0\n",
              "NOX        0\n",
              "RM         0\n",
              "AGE        0\n",
              "DIS        0\n",
              "RAD        0\n",
              "TAX        0\n",
              "PTRATIO    0\n",
              "B          0\n",
              "LSTAT      0\n",
              "MEDV       0\n",
              "dtype: int64"
            ]
          },
          "metadata": {},
          "execution_count": 11
        }
      ]
    },
    {
      "cell_type": "markdown",
      "source": [
        "## **Exploratory Data Analysis (EDA)**"
      ],
      "metadata": {
        "id": "_66ov-lTWpiI"
      }
    },
    {
      "cell_type": "code",
      "source": [
        "# Distribution of Dependent variable\n",
        "sns.histplot(df['MEDV'], kde=True,  edgecolor='none')\n",
        "plt.axvline(np.mean(df['MEDV']), c='red', ls='--', label='mean')\n",
        "plt.title('Distribution of MEDV (Housing prices)')\n",
        "plt.legend()"
      ],
      "metadata": {
        "colab": {
          "base_uri": "https://localhost:8080/",
          "height": 489
        },
        "id": "R9OLV9RBWtBf",
        "outputId": "65aef2e2-632e-4d5f-a504-eb535d1652c4"
      },
      "execution_count": 12,
      "outputs": [
        {
          "output_type": "execute_result",
          "data": {
            "text/plain": [
              "<matplotlib.legend.Legend at 0x7d6947a7bdc0>"
            ]
          },
          "metadata": {},
          "execution_count": 12
        },
        {
          "output_type": "display_data",
          "data": {
            "text/plain": [
              "<Figure size 640x480 with 1 Axes>"
            ],
            "image/png": "[encoded data removed]"
          },
          "metadata": {}
        }
      ]
    },
    {
      "cell_type": "code",
      "source": [
        "# Calculate the correlation coefficients\n",
        "df.corr()"
      ],
      "metadata": {
        "colab": {
          "base_uri": "https://localhost:8080/",
          "height": 489
        },
        "id": "j5IGdQklW_08",
        "outputId": "f130383b-9052-49c3-8c1e-4b2594e516ef"
      },
      "execution_count": 13,
      "outputs": [
        {
          "output_type": "execute_result",
          "data": {
            "text/plain": [
              "             CRIM        ZN     INDUS      CHAS       NOX        RM       AGE  \\\n",
              "CRIM     1.000000 -0.188075  0.391552 -0.051970  0.416160 -0.227170  0.341311   \n",
              "ZN      -0.188075  1.000000 -0.521256 -0.033357 -0.515660  0.343210 -0.568174   \n",
              "INDUS    0.391552 -0.521256  1.000000  0.049820  0.762737 -0.403068  0.642387   \n",
              "CHAS    -0.051970 -0.033357  0.049820  1.000000  0.076661  0.095308  0.072644   \n",
              "NOX      0.416160 -0.515660  0.762737  0.076661  1.000000 -0.316563  0.732540   \n",
              "RM      -0.227170  0.343210 -0.403068  0.095308 -0.316563  1.000000 -0.248670   \n",
              "AGE      0.341311 -0.568174  0.642387  0.072644  0.732540 -0.248670  1.000000   \n",
              "DIS     -0.365052  0.645359 -0.696569 -0.095037 -0.768137  0.218713 -0.753547   \n",
              "RAD      0.608667 -0.298773  0.591944  0.014102  0.628170 -0.236057  0.443585   \n",
              "TAX      0.560841 -0.305768  0.734204 -0.026513  0.679824 -0.320561  0.504472   \n",
              "PTRATIO  0.265428 -0.422164  0.395691 -0.104995  0.210216 -0.390686  0.264968   \n",
              "B       -0.386254  0.169894 -0.344788  0.068913 -0.384257  0.123320 -0.281990   \n",
              "LSTAT    0.461906 -0.415041  0.598156 -0.037113  0.593655 -0.636226  0.601137   \n",
              "MEDV    -0.397230  0.406822 -0.510829  0.173701 -0.459054  0.723951 -0.407470   \n",
              "\n",
              "              DIS       RAD       TAX   PTRATIO         B     LSTAT      MEDV  \n",
              "CRIM    -0.365052  0.608667  0.560841  0.265428 -0.386254  0.461906 -0.397230  \n",
              "ZN       0.645359 -0.298773 -0.305768 -0.422164  0.169894 -0.415041  0.406822  \n",
              "INDUS   -0.696569  0.591944  0.734204  0.395691 -0.344788  0.598156 -0.510829  \n",
              "CHAS    -0.095037  0.014102 -0.026513 -0.104995  0.068913 -0.037113  0.173701  \n",
              "NOX     -0.768137  0.628170  0.679824  0.210216 -0.384257  0.593655 -0.459054  \n",
              "RM       0.218713 -0.236057 -0.320561 -0.390686  0.123320 -0.636226  0.723951  \n",
              "AGE     -0.753547  0.443585  0.504472  0.264968 -0.281990  0.601137 -0.407470  \n",
              "DIS      1.000000 -0.477075 -0.529603 -0.228840  0.285168 -0.505036  0.279547  \n",
              "RAD     -0.477075  1.000000  0.900000  0.441949 -0.444135  0.510868 -0.416638  \n",
              "TAX     -0.529603  0.900000  1.000000  0.446961 -0.435457  0.572218 -0.508864  \n",
              "PTRATIO -0.228840  0.441949  0.446961  1.000000 -0.179816  0.395006 -0.543809  \n",
              "B        0.285168 -0.444135 -0.435457 -0.179816  1.000000 -0.383783  0.347256  \n",
              "LSTAT   -0.505036  0.510868  0.572218  0.395006 -0.383783  1.000000 -0.743450  \n",
              "MEDV     0.279547 -0.416638 -0.508864 -0.543809  0.347256 -0.743450  1.000000  "
            ],
            "text/html": [
              "\n",
              "  <div id=\"df-7a48a407-fd92-4fc3-846a-3cbca4d5c330\" class=\"colab-df-container\">\n",
              "    <div>\n",
              "<style scoped>\n",
              "    .dataframe tbody tr th:only-of-type {\n",
              "        vertical-align: middle;\n",
              "    }\n",
              "\n",
              "    .dataframe tbody tr th {\n",
              "        vertical-align: top;\n",
              "    }\n",
              "\n",
              "    .dataframe thead th {\n",
              "        text-align: right;\n",
              "    }\n",
              "</style>\n",
              "<table border=\"1\" class=\"dataframe\">\n",
              "  <thead>\n",
              "    <tr style=\"text-align: right;\">\n",
              "      <th></th>\n",
              "      <th>CRIM</th>\n",
              "      <th>ZN</th>\n",
              "      <th>INDUS</th>\n",
              "      <th>CHAS</th>\n",
              "      <th>NOX</th>\n",
              "      <th>RM</th>\n",
              "      <th>AGE</th>\n",
              "      <th>DIS</th>\n",
              "      <th>RAD</th>\n",
              "      <th>TAX</th>\n",
              "      <th>PTRATIO</th>\n",
              "      <th>B</th>\n",
              "      <th>LSTAT</th>\n",
              "      <th>MEDV</th>\n",
              "    </tr>\n",
              "  </thead>\n",
              "  <tbody>\n",
              "    <tr>\n",
              "      <th>CRIM</th>\n",
              "      <td>1.000000</td>\n",
              "      <td>-0.188075</td>\n",
              "      <td>0.391552</td>\n",
              "      <td>-0.051970</td>\n",
              "      <td>0.416160</td>\n",
              "      <td>-0.227170</td>\n",
              "      <td>0.341311</td>\n",
              "      <td>-0.365052</td>\n",
              "      <td>0.608667</td>\n",
              "      <td>0.560841</td>\n",
              "      <td>0.265428</td>\n",
              "      <td>-0.386254</td>\n",
              "      <td>0.461906</td>\n",
              "      <td>-0.397230</td>\n",
              "    </tr>\n",
              "    <tr>\n",
              "      <th>ZN</th>\n",
              "      <td>-0.188075</td>\n",
              "      <td>1.000000</td>\n",
              "      <td>-0.521256</td>\n",
              "      <td>-0.033357</td>\n",
              "      <td>-0.515660</td>\n",
              "      <td>0.343210</td>\n",
              "      <td>-0.568174</td>\n",
              "      <td>0.645359</td>\n",
              "      <td>-0.298773</td>\n",
              "      <td>-0.305768</td>\n",
              "      <td>-0.422164</td>\n",
              "      <td>0.169894</td>\n",
              "      <td>-0.415041</td>\n",
              "      <td>0.406822</td>\n",
              "    </tr>\n",
              "    <tr>\n",
              "      <th>INDUS</th>\n",
              "      <td>0.391552</td>\n",
              "      <td>-0.521256</td>\n",
              "      <td>1.000000</td>\n",
              "      <td>0.049820</td>\n",
              "      <td>0.762737</td>\n",
              "      <td>-0.403068</td>\n",
              "      <td>0.642387</td>\n",
              "      <td>-0.696569</td>\n",
              "      <td>0.591944</td>\n",
              "      <td>0.734204</td>\n",
              "      <td>0.395691</td>\n",
              "      <td>-0.344788</td>\n",
              "      <td>0.598156</td>\n",
              "      <td>-0.510829</td>\n",
              "    </tr>\n",
              "    <tr>\n",
              "      <th>CHAS</th>\n",
              "      <td>-0.051970</td>\n",
              "      <td>-0.033357</td>\n",
              "      <td>0.049820</td>\n",
              "      <td>1.000000</td>\n",
              "      <td>0.076661</td>\n",
              "      <td>0.095308</td>\n",
              "      <td>0.072644</td>\n",
              "      <td>-0.095037</td>\n",
              "      <td>0.014102</td>\n",
              "      <td>-0.026513</td>\n",
              "      <td>-0.104995</td>\n",
              "      <td>0.068913</td>\n",
              "      <td>-0.037113</td>\n",
              "      <td>0.173701</td>\n",
              "    </tr>\n",
              "    <tr>\n",
              "      <th>NOX</th>\n",
              "      <td>0.416160</td>\n",
              "      <td>-0.515660</td>\n",
              "      <td>0.762737</td>\n",
              "      <td>0.076661</td>\n",
              "      <td>1.000000</td>\n",
              "      <td>-0.316563</td>\n",
              "      <td>0.732540</td>\n",
              "      <td>-0.768137</td>\n",
              "      <td>0.628170</td>\n",
              "      <td>0.679824</td>\n",
              "      <td>0.210216</td>\n",
              "      <td>-0.384257</td>\n",
              "      <td>0.593655</td>\n",
              "      <td>-0.459054</td>\n",
              "    </tr>\n",
              "    <tr>\n",
              "      <th>RM</th>\n",
              "      <td>-0.227170</td>\n",
              "      <td>0.343210</td>\n",
              "      <td>-0.403068</td>\n",
              "      <td>0.095308</td>\n",
              "      <td>-0.316563</td>\n",
              "      <td>1.000000</td>\n",
              "      <td>-0.248670</td>\n",
              "      <td>0.218713</td>\n",
              "      <td>-0.236057</td>\n",
              "      <td>-0.320561</td>\n",
              "      <td>-0.390686</td>\n",
              "      <td>0.123320</td>\n",
              "      <td>-0.636226</td>\n",
              "      <td>0.723951</td>\n",
              "    </tr>\n",
              "    <tr>\n",
              "      <th>AGE</th>\n",
              "      <td>0.341311</td>\n",
              "      <td>-0.568174</td>\n",
              "      <td>0.642387</td>\n",
              "      <td>0.072644</td>\n",
              "      <td>0.732540</td>\n",
              "      <td>-0.248670</td>\n",
              "      <td>1.000000</td>\n",
              "      <td>-0.753547</td>\n",
              "      <td>0.443585</td>\n",
              "      <td>0.504472</td>\n",
              "      <td>0.264968</td>\n",
              "      <td>-0.281990</td>\n",
              "      <td>0.601137</td>\n",
              "      <td>-0.407470</td>\n",
              "    </tr>\n",
              "    <tr>\n",
              "      <th>DIS</th>\n",
              "      <td>-0.365052</td>\n",
              "      <td>0.645359</td>\n",
              "      <td>-0.696569</td>\n",
              "      <td>-0.095037</td>\n",
              "      <td>-0.768137</td>\n",
              "      <td>0.218713</td>\n",
              "      <td>-0.753547</td>\n",
              "      <td>1.000000</td>\n",
              "      <td>-0.477075</td>\n",
              "      <td>-0.529603</td>\n",
              "      <td>-0.228840</td>\n",
              "      <td>0.285168</td>\n",
              "      <td>-0.505036</td>\n",
              "      <td>0.279547</td>\n",
              "    </tr>\n",
              "    <tr>\n",
              "      <th>RAD</th>\n",
              "      <td>0.608667</td>\n",
              "      <td>-0.298773</td>\n",
              "      <td>0.591944</td>\n",
              "      <td>0.014102</td>\n",
              "      <td>0.628170</td>\n",
              "      <td>-0.236057</td>\n",
              "      <td>0.443585</td>\n",
              "      <td>-0.477075</td>\n",
              "      <td>1.000000</td>\n",
              "      <td>0.900000</td>\n",
              "      <td>0.441949</td>\n",
              "      <td>-0.444135</td>\n",
              "      <td>0.510868</td>\n",
              "      <td>-0.416638</td>\n",
              "    </tr>\n",
              "    <tr>\n",
              "      <th>TAX</th>\n",
              "      <td>0.560841</td>\n",
              "      <td>-0.305768</td>\n",
              "      <td>0.734204</td>\n",
              "      <td>-0.026513</td>\n",
              "      <td>0.679824</td>\n",
              "      <td>-0.320561</td>\n",
              "      <td>0.504472</td>\n",
              "      <td>-0.529603</td>\n",
              "      <td>0.900000</td>\n",
              "      <td>1.000000</td>\n",
              "      <td>0.446961</td>\n",
              "      <td>-0.435457</td>\n",
              "      <td>0.572218</td>\n",
              "      <td>-0.508864</td>\n",
              "    </tr>\n",
              "    <tr>\n",
              "      <th>PTRATIO</th>\n",
              "      <td>0.265428</td>\n",
              "      <td>-0.422164</td>\n",
              "      <td>0.395691</td>\n",
              "      <td>-0.104995</td>\n",
              "      <td>0.210216</td>\n",
              "      <td>-0.390686</td>\n",
              "      <td>0.264968</td>\n",
              "      <td>-0.228840</td>\n",
              "      <td>0.441949</td>\n",
              "      <td>0.446961</td>\n",
              "      <td>1.000000</td>\n",
              "      <td>-0.179816</td>\n",
              "      <td>0.395006</td>\n",
              "      <td>-0.543809</td>\n",
              "    </tr>\n",
              "    <tr>\n",
              "      <th>B</th>\n",
              "      <td>-0.386254</td>\n",
              "      <td>0.169894</td>\n",
              "      <td>-0.344788</td>\n",
              "      <td>0.068913</td>\n",
              "      <td>-0.384257</td>\n",
              "      <td>0.123320</td>\n",
              "      <td>-0.281990</td>\n",
              "      <td>0.285168</td>\n",
              "      <td>-0.444135</td>\n",
              "      <td>-0.435457</td>\n",
              "      <td>-0.179816</td>\n",
              "      <td>1.000000</td>\n",
              "      <td>-0.383783</td>\n",
              "      <td>0.347256</td>\n",
              "    </tr>\n",
              "    <tr>\n",
              "      <th>LSTAT</th>\n",
              "      <td>0.461906</td>\n",
              "      <td>-0.415041</td>\n",
              "      <td>0.598156</td>\n",
              "      <td>-0.037113</td>\n",
              "      <td>0.593655</td>\n",
              "      <td>-0.636226</td>\n",
              "      <td>0.601137</td>\n",
              "      <td>-0.505036</td>\n",
              "      <td>0.510868</td>\n",
              "      <td>0.572218</td>\n",
              "      <td>0.395006</td>\n",
              "      <td>-0.383783</td>\n",
              "      <td>1.000000</td>\n",
              "      <td>-0.743450</td>\n",
              "    </tr>\n",
              "    <tr>\n",
              "      <th>MEDV</th>\n",
              "      <td>-0.397230</td>\n",
              "      <td>0.406822</td>\n",
              "      <td>-0.510829</td>\n",
              "      <td>0.173701</td>\n",
              "      <td>-0.459054</td>\n",
              "      <td>0.723951</td>\n",
              "      <td>-0.407470</td>\n",
              "      <td>0.279547</td>\n",
              "      <td>-0.416638</td>\n",
              "      <td>-0.508864</td>\n",
              "      <td>-0.543809</td>\n",
              "      <td>0.347256</td>\n",
              "      <td>-0.743450</td>\n",
              "      <td>1.000000</td>\n",
              "    </tr>\n",
              "  </tbody>\n",
              "</table>\n",
              "</div>\n",
              "    <div class=\"colab-df-buttons\">\n",
              "\n",
              "  <div class=\"colab-df-container\">\n",
              "    <button class=\"colab-df-convert\" onclick=\"convertToInteractive('df-7a48a407-fd92-4fc3-846a-3cbca4d5c330')\"\n",
              "            title=\"Convert this dataframe to an interactive table.\"\n",
              "            style=\"display:none;\">\n",
              "\n",
              "  <svg xmlns=\"http://www.w3.org/2000/svg\" height=\"24px\" viewBox=\"0 -960 960 960\">\n",
              "    <path d=\"M120-120v-720h720v720H120Zm60-500h600v-160H180v160Zm220 220h160v-160H400v160Zm0 220h160v-160H400v160ZM180-400h160v-160H180v160Zm440 0h160v-160H620v160ZM180-180h160v-160H180v160Zm440 0h160v-160H620v160Z\"/>\n",
              "  </svg>\n",
              "    </button>\n",
              "\n",
              "  <style>\n",
              "    .colab-df-container {\n",
              "      display:flex;\n",
              "      gap: 12px;\n",
              "    }\n",
              "\n",
              "    .colab-df-convert {\n",
              "      background-color: #E8F0FE;\n",
              "      border: none;\n",
              "      border-radius: 50%;\n",
              "      cursor: pointer;\n",
              "      display: none;\n",
              "      fill: #1967D2;\n",
              "      height: 32px;\n",
              "      padding: 0 0 0 0;\n",
              "      width: 32px;\n",
              "    }\n",
              "\n",
              "    .colab-df-convert:hover {\n",
              "      background-color: #E2EBFA;\n",
              "      box-shadow: 0px 1px 2px rgba(60, 64, 67, 0.3), 0px 1px 3px 1px rgba(60, 64, 67, 0.15);\n",
              "      fill: #174EA6;\n",
              "    }\n",
              "\n",
              "    .colab-df-buttons div {\n",
              "      margin-bottom: 4px;\n",
              "    }\n",
              "\n",
              "    [theme=dark] .colab-df-convert {\n",
              "      background-color: #3B4455;\n",
              "      fill: #D2E3FC;\n",
              "    }\n",
              "\n",
              "    [theme=dark] .colab-df-convert:hover {\n",
              "      background-color: #434B5C;\n",
              "      box-shadow: 0px 1px 3px 1px rgba(0, 0, 0, 0.15);\n",
              "      filter: drop-shadow(0px 1px 2px rgba(0, 0, 0, 0.3));\n",
              "      fill: #FFFFFF;\n",
              "    }\n",
              "  </style>\n",
              "\n",
              "    <script>\n",
              "      const buttonEl =\n",
              "        document.querySelector('#df-7a48a407-fd92-4fc3-846a-3cbca4d5c330 button.colab-df-convert');\n",
              "      buttonEl.style.display =\n",
              "        google.colab.kernel.accessAllowed ? 'block' : 'none';\n",
              "\n",
              "      async function convertToInteractive(key) {\n",
              "        const element = document.querySelector('#df-7a48a407-fd92-4fc3-846a-3cbca4d5c330');\n",
              "        const dataTable =\n",
              "          await google.colab.kernel.invokeFunction('convertToInteractive',\n",
              "                                                    [key], {});\n",
              "        if (!dataTable) return;\n",
              "\n",
              "        const docLinkHtml = 'Like what you see? Visit the ' +\n",
              "          '<a target=\"_blank\" href=https://colab.research.google.com/notebooks/data_table.ipynb>data table notebook</a>'\n",
              "          + ' to learn more about interactive tables.';\n",
              "        element.innerHTML = '';\n",
              "        dataTable['output_type'] = 'display_data';\n",
              "        await google.colab.output.renderOutput(dataTable, element);\n",
              "        const docLink = document.createElement('div');\n",
              "        docLink.innerHTML = docLinkHtml;\n",
              "        element.appendChild(docLink);\n",
              "      }\n",
              "    </script>\n",
              "  </div>\n",
              "\n",
              "\n",
              "<div id=\"df-e0226907-c2c6-4a06-b54d-add46ecc14dd\">\n",
              "  <button class=\"colab-df-quickchart\" onclick=\"quickchart('df-e0226907-c2c6-4a06-b54d-add46ecc14dd')\"\n",
              "            title=\"Suggest charts\"\n",
              "            style=\"display:none;\">\n",
              "\n",
              "<svg xmlns=\"http://www.w3.org/2000/svg\" height=\"24px\"viewBox=\"0 0 24 24\"\n",
              "     width=\"24px\">\n",
              "    <g>\n",
              "        <path d=\"M19 3H5c-1.1 0-2 .9-2 2v14c0 1.1.9 2 2 2h14c1.1 0 2-.9 2-2V5c0-1.1-.9-2-2-2zM9 17H7v-7h2v7zm4 0h-2V7h2v10zm4 0h-2v-4h2v4z\"/>\n",
              "    </g>\n",
              "</svg>\n",
              "  </button>\n",
              "\n",
              "<style>\n",
              "  .colab-df-quickchart {\n",
              "      --bg-color: #E8F0FE;\n",
              "      --fill-color: #1967D2;\n",
              "      --hover-bg-color: #E2EBFA;\n",
              "      --hover-fill-color: #174EA6;\n",
              "      --disabled-fill-color: #AAA;\n",
              "      --disabled-bg-color: #DDD;\n",
              "  }\n",
              "\n",
              "  [theme=dark] .colab-df-quickchart {\n",
              "      --bg-color: #3B4455;\n",
              "      --fill-color: #D2E3FC;\n",
              "      --hover-bg-color: #434B5C;\n",
              "      --hover-fill-color: #FFFFFF;\n",
              "      --disabled-bg-color: #3B4455;\n",
              "      --disabled-fill-color: #666;\n",
              "  }\n",
              "\n",
              "  .colab-df-quickchart {\n",
              "    background-color: var(--bg-color);\n",
              "    border: none;\n",
              "    border-radius: 50%;\n",
              "    cursor: pointer;\n",
              "    display: none;\n",
              "    fill: var(--fill-color);\n",
              "    height: 32px;\n",
              "    padding: 0;\n",
              "    width: 32px;\n",
              "  }\n",
              "\n",
              "  .colab-df-quickchart:hover {\n",
              "    background-color: var(--hover-bg-color);\n",
              "    box-shadow: 0 1px 2px rgba(60, 64, 67, 0.3), 0 1px 3px 1px rgba(60, 64, 67, 0.15);\n",
              "    fill: var(--button-hover-fill-color);\n",
              "  }\n",
              "\n",
              "  .colab-df-quickchart-complete:disabled,\n",
              "  .colab-df-quickchart-complete:disabled:hover {\n",
              "    background-color: var(--disabled-bg-color);\n",
              "    fill: var(--disabled-fill-color);\n",
              "    box-shadow: none;\n",
              "  }\n",
              "\n",
              "  .colab-df-spinner {\n",
              "    border: 2px solid var(--fill-color);\n",
              "    border-color: transparent;\n",
              "    border-bottom-color: var(--fill-color);\n",
              "    animation:\n",
              "      spin 1s steps(1) infinite;\n",
              "  }\n",
              "\n",
              "  @keyframes spin {\n",
              "    0% {\n",
              "      border-color: transparent;\n",
              "      border-bottom-color: var(--fill-color);\n",
              "      border-left-color: var(--fill-color);\n",
              "    }\n",
              "    20% {\n",
              "      border-color: transparent;\n",
              "      border-left-color: var(--fill-color);\n",
              "      border-top-color: var(--fill-color);\n",
              "    }\n",
              "    30% {\n",
              "      border-color: transparent;\n",
              "      border-left-color: var(--fill-color);\n",
              "      border-top-color: var(--fill-color);\n",
              "      border-right-color: var(--fill-color);\n",
              "    }\n",
              "    40% {\n",
              "      border-color: transparent;\n",
              "      border-right-color: var(--fill-color);\n",
              "      border-top-color: var(--fill-color);\n",
              "    }\n",
              "    60% {\n",
              "      border-color: transparent;\n",
              "      border-right-color: var(--fill-color);\n",
              "    }\n",
              "    80% {\n",
              "      border-color: transparent;\n",
              "      border-right-color: var(--fill-color);\n",
              "      border-bottom-color: var(--fill-color);\n",
              "    }\n",
              "    90% {\n",
              "      border-color: transparent;\n",
              "      border-bottom-color: var(--fill-color);\n",
              "    }\n",
              "  }\n",
              "</style>\n",
              "\n",
              "  <script>\n",
              "    async function quickchart(key) {\n",
              "      const quickchartButtonEl =\n",
              "        document.querySelector('#' + key + ' button');\n",
              "      quickchartButtonEl.disabled = true;  // To prevent multiple clicks.\n",
              "      quickchartButtonEl.classList.add('colab-df-spinner');\n",
              "      try {\n",
              "        const charts = await google.colab.kernel.invokeFunction(\n",
              "            'suggestCharts', [key], {});\n",
              "      } catch (error) {\n",
              "        console.error('Error during call to suggestCharts:', error);\n",
              "      }\n",
              "      quickchartButtonEl.classList.remove('colab-df-spinner');\n",
              "      quickchartButtonEl.classList.add('colab-df-quickchart-complete');\n",
              "    }\n",
              "    (() => {\n",
              "      let quickchartButtonEl =\n",
              "        document.querySelector('#df-e0226907-c2c6-4a06-b54d-add46ecc14dd button');\n",
              "      quickchartButtonEl.style.display =\n",
              "        google.colab.kernel.accessAllowed ? 'block' : 'none';\n",
              "    })();\n",
              "  </script>\n",
              "</div>\n",
              "\n",
              "    </div>\n",
              "  </div>\n"
            ],
            "application/vnd.google.colaboratory.intrinsic+json": {
              "type": "dataframe",
              "summary": "{\n  \"name\": \"df\",\n  \"rows\": 14,\n  \"fields\": [\n    {\n      \"column\": \"CRIM\",\n      \"properties\": {\n        \"dtype\": \"number\",\n        \"std\": 0.44027350042223296,\n        \"min\": -0.3972300568205112,\n        \"max\": 1.0,\n        \"num_unique_values\": 14,\n        \"samples\": [\n          0.5608411362735888,\n          -0.3862538186839568,\n          1.0\n        ],\n        \"semantic_type\": \"\",\n        \"description\": \"\"\n      }\n    },\n    {\n      \"column\": \"ZN\",\n      \"properties\": {\n        \"dtype\": \"number\",\n        \"std\": 0.4901735144824662,\n        \"min\": -0.5681737619289126,\n        \"max\": 1.0,\n        \"num_unique_values\": 14,\n        \"samples\": [\n          -0.30576760163425315,\n          0.169894197458228,\n          -0.18807507071333524\n        ],\n        \"semantic_type\": \"\",\n        \"description\": \"\"\n      }\n    },\n    {\n      \"column\": \"INDUS\",\n      \"properties\": {\n        \"dtype\": \"number\",\n        \"std\": 0.5775535963175327,\n        \"min\": -0.6965690045538208,\n        \"max\": 1.0,\n        \"num_unique_values\": 14,\n        \"samples\": [\n          0.7342036917757172,\n          -0.34478754829974156,\n          0.3915518204726565\n        ],\n        \"semantic_type\": \"\",\n        \"description\": \"\"\n      }\n    },\n    {\n      \"column\": \"CHAS\",\n      \"properties\": {\n        \"dtype\": \"number\",\n        \"std\": 0.27464116960618373,\n        \"min\": -0.10499480409929267,\n        \"max\": 1.0,\n        \"num_unique_values\": 14,\n        \"samples\": [\n          -0.026513129765404604,\n          0.06891303715626611,\n          -0.05196992415396178\n        ],\n        \"semantic_type\": \"\",\n        \"description\": \"\"\n      }\n    },\n    {\n      \"column\": \"NOX\",\n      \"properties\": {\n        \"dtype\": \"number\",\n        \"std\": 0.5792149197993529,\n        \"min\": -0.7681368306504893,\n        \"max\": 1.0,\n        \"num_unique_values\": 14,\n        \"samples\": [\n          0.679824049038769,\n          -0.3842566243129565,\n          0.4161598237187847\n        ],\n        \"semantic_type\": \"\",\n        \"description\": \"\"\n      }\n    },\n    {\n      \"column\": \"RM\",\n      \"properties\": {\n        \"dtype\": \"number\",\n        \"std\": 0.4641504573332472,\n        \"min\": -0.6362261834412338,\n        \"max\": 1.0,\n        \"num_unique_values\": 14,\n        \"samples\": [\n          -0.32056055832290364,\n          0.12331953804892559,\n          -0.22716990899028203\n        ],\n        \"semantic_type\": \"\",\n        \"description\": \"\"\n      }\n    },\n    {\n      \"column\": \"AGE\",\n      \"properties\": {\n        \"dtype\": \"number\",\n        \"std\": 0.5377831407103433,\n        \"min\": -0.7535469036313429,\n        \"max\": 1.0,\n        \"num_unique_values\": 14,\n        \"samples\": [\n          0.5044724850542134,\n          -0.2819898359092437,\n          0.34131148920510607\n        ],\n        \"semantic_type\": \"\",\n        \"description\": \"\"\n      }\n    },\n    {\n      \"column\": \"DIS\",\n      \"properties\": {\n        \"dtype\": \"number\",\n        \"std\": 0.5506482609112011,\n        \"min\": -0.7681368306504893,\n        \"max\": 1.0,\n        \"num_unique_values\": 14,\n        \"samples\": [\n          -0.5296026159046674,\n          0.2851684097166912,\n          -0.3650517766582763\n        ],\n        \"semantic_type\": \"\",\n        \"description\": \"\"\n      }\n    },\n    {\n      \"column\": \"RAD\",\n      \"properties\": {\n        \"dtype\": \"number\",\n        \"std\": 0.5233015888899909,\n        \"min\": -0.4770754524811853,\n        \"max\": 1.0,\n        \"num_unique_values\": 14,\n        \"samples\": [\n          0.8999998362372555,\n          -0.4441346535492744,\n          0.6086667227751796\n        ],\n        \"semantic_type\": \"\",\n        \"description\": \"\"\n      }\n    },\n    {\n      \"column\": \"TAX\",\n      \"properties\": {\n        \"dtype\": \"number\",\n        \"std\": 0.5594543709477192,\n        \"min\": -0.5296026159046674,\n        \"max\": 1.0,\n        \"num_unique_values\": 14,\n        \"samples\": [\n          1.0,\n          -0.43545655984529325,\n          0.5608411362735888\n        ],\n        \"semantic_type\": \"\",\n        \"description\": \"\"\n      }\n    },\n    {\n      \"column\": \"PTRATIO\",\n      \"properties\": {\n        \"dtype\": \"number\",\n        \"std\": 0.43352492932914183,\n        \"min\": -0.5438090137802116,\n        \"max\": 1.0,\n        \"num_unique_values\": 14,\n        \"samples\": [\n          0.44696147663598146,\n          -0.17981583250096342,\n          0.26542768193532296\n        ],\n        \"semantic_type\": \"\",\n        \"description\": \"\"\n      }\n    },\n    {\n      \"column\": \"B\",\n      \"properties\": {\n        \"dtype\": \"number\",\n        \"std\": 0.4170738854576347,\n        \"min\": -0.4441346535492744,\n        \"max\": 1.0,\n        \"num_unique_values\": 14,\n        \"samples\": [\n          -0.43545655984529325,\n          1.0,\n          -0.3862538186839568\n        ],\n        \"semantic_type\": \"\",\n        \"description\": \"\"\n      }\n    },\n    {\n      \"column\": \"LSTAT\",\n      \"properties\": {\n        \"dtype\": \"number\",\n        \"std\": 0.5733598082067297,\n        \"min\": -0.7434496269297166,\n        \"max\": 1.0,\n        \"num_unique_values\": 14,\n        \"samples\": [\n          0.5722176524321103,\n          -0.3837833939654776,\n          0.4619057844325532\n        ],\n        \"semantic_type\": \"\",\n        \"description\": \"\"\n      }\n    },\n    {\n      \"column\": \"MEDV\",\n      \"properties\": {\n        \"dtype\": \"number\",\n        \"std\": 0.5487978199628011,\n        \"min\": -0.7434496269297166,\n        \"max\": 1.0,\n        \"num_unique_values\": 14,\n        \"samples\": [\n          -0.508864272782685,\n          0.34725608800793745,\n          -0.3972300568205112\n        ],\n        \"semantic_type\": \"\",\n        \"description\": \"\"\n      }\n    }\n  ]\n}"
            }
          },
          "metadata": {},
          "execution_count": 13
        }
      ]
    },
    {
      "cell_type": "code",
      "source": [
        "plt.figure(figsize=(7, 7))\n",
        "sns.heatmap(np.round(df.corr(), 2), annot=True, annot_kws={\"size\": 7})"
      ],
      "metadata": {
        "colab": {
          "base_uri": "https://localhost:8080/",
          "height": 665
        },
        "id": "Md-Kra1pXirv",
        "outputId": "b4f280ef-d807-4187-f07f-c49b0935907c"
      },
      "execution_count": 14,
      "outputs": [
        {
          "output_type": "execute_result",
          "data": {
            "text/plain": [
              "<Axes: >"
            ]
          },
          "metadata": {},
          "execution_count": 14
        },
        {
          "output_type": "display_data",
          "data": {
            "text/plain": [
              "<Figure size 700x700 with 2 Axes>"
            ],
            "image/png": "[encoded data removed]"
          },
          "metadata": {}
        }
      ]
    },
    {
      "cell_type": "markdown",
      "source": [
        "## **Split into features and target**"
      ],
      "metadata": {
        "id": "R566NWeyodno"
      }
    },
    {
      "cell_type": "code",
      "source": [
        "x = df.drop('MEDV', axis = 1)\n",
        "y = df['MEDV']"
      ],
      "metadata": {
        "id": "3CMNVUplX1rP"
      },
      "execution_count": 15,
      "outputs": []
    },
    {
      "cell_type": "code",
      "source": [
        "x_train, x_test, y_train, y_test = train_test_split(x, y, test_size = 0.2, random_state = 20)"
      ],
      "metadata": {
        "id": "v7_-upepoQFX"
      },
      "execution_count": 16,
      "outputs": []
    },
    {
      "cell_type": "markdown",
      "source": [
        "## **Standardize features by removing the mean and scaling to unit variance**"
      ],
      "metadata": {
        "id": "fbJevPYjonxY"
      }
    },
    {
      "cell_type": "code",
      "source": [
        "scaler = StandardScaler()\n",
        "scaler.fit(x_train)"
      ],
      "metadata": {
        "colab": {
          "base_uri": "https://localhost:8080/",
          "height": 75
        },
        "id": "5xbPDVAio5WA",
        "outputId": "a7894b27-c9c5-4d88-b4f9-fdbdcc832957"
      },
      "execution_count": 17,
      "outputs": [
        {
          "output_type": "execute_result",
          "data": {
            "text/plain": [
              "StandardScaler()"
            ],
            "text/html": [
              "<style>#sk-container-id-1 {color: black;background-color: white;}#sk-container-id-1 pre{padding: 0;}#sk-container-id-1 div.sk-toggleable {background-color: white;}#sk-container-id-1 label.sk-toggleable__label {cursor: pointer;display: block;width: 100%;margin-bottom: 0;padding: 0.3em;box-sizing: border-box;text-align: center;}#sk-container-id-1 label.sk-toggleable__label-arrow:before {content: \"▸\";float: left;margin-right: 0.25em;color: #696969;}#sk-container-id-1 label.sk-toggleable__label-arrow:hover:before {color: black;}#sk-container-id-1 div.sk-estimator:hover label.sk-toggleable__label-arrow:before {color: black;}#sk-container-id-1 div.sk-toggleable__content {max-height: 0;max-width: 0;overflow: hidden;text-align: left;background-color: #f0f8ff;}#sk-container-id-1 div.sk-toggleable__content pre {margin: 0.2em;color: black;border-radius: 0.25em;background-color: #f0f8ff;}#sk-container-id-1 input.sk-toggleable__control:checked~div.sk-toggleable__content {max-height: 200px;max-width: 100%;overflow: auto;}#sk-container-id-1 input.sk-toggleable__control:checked~label.sk-toggleable__label-arrow:before {content: \"▾\";}#sk-container-id-1 div.sk-estimator input.sk-toggleable__control:checked~label.sk-toggleable__label {background-color: #d4ebff;}#sk-container-id-1 div.sk-label input.sk-toggleable__control:checked~label.sk-toggleable__label {background-color: #d4ebff;}#sk-container-id-1 input.sk-hidden--visually {border: 0;clip: rect(1px 1px 1px 1px);clip: rect(1px, 1px, 1px, 1px);height: 1px;margin: -1px;overflow: hidden;padding: 0;position: absolute;width: 1px;}#sk-container-id-1 div.sk-estimator {font-family: monospace;background-color: #f0f8ff;border: 1px dotted black;border-radius: 0.25em;box-sizing: border-box;margin-bottom: 0.5em;}#sk-container-id-1 div.sk-estimator:hover {background-color: #d4ebff;}#sk-container-id-1 div.sk-parallel-item::after {content: \"\";width: 100%;border-bottom: 1px solid gray;flex-grow: 1;}#sk-container-id-1 div.sk-label:hover label.sk-toggleable__label {background-color: #d4ebff;}#sk-container-id-1 div.sk-serial::before {content: \"\";position: absolute;border-left: 1px solid gray;box-sizing: border-box;top: 0;bottom: 0;left: 50%;z-index: 0;}#sk-container-id-1 div.sk-serial {display: flex;flex-direction: column;align-items: center;background-color: white;padding-right: 0.2em;padding-left: 0.2em;position: relative;}#sk-container-id-1 div.sk-item {position: relative;z-index: 1;}#sk-container-id-1 div.sk-parallel {display: flex;align-items: stretch;justify-content: center;background-color: white;position: relative;}#sk-container-id-1 div.sk-item::before, #sk-container-id-1 div.sk-parallel-item::before {content: \"\";position: absolute;border-left: 1px solid gray;box-sizing: border-box;top: 0;bottom: 0;left: 50%;z-index: -1;}#sk-container-id-1 div.sk-parallel-item {display: flex;flex-direction: column;z-index: 1;position: relative;background-color: white;}#sk-container-id-1 div.sk-parallel-item:first-child::after {align-self: flex-end;width: 50%;}#sk-container-id-1 div.sk-parallel-item:last-child::after {align-self: flex-start;width: 50%;}#sk-container-id-1 div.sk-parallel-item:only-child::after {width: 0;}#sk-container-id-1 div.sk-dashed-wrapped {border: 1px dashed gray;margin: 0 0.4em 0.5em 0.4em;box-sizing: border-box;padding-bottom: 0.4em;background-color: white;}#sk-container-id-1 div.sk-label label {font-family: monospace;font-weight: bold;display: inline-block;line-height: 1.2em;}#sk-container-id-1 div.sk-label-container {text-align: center;}#sk-container-id-1 div.sk-container {/* jupyter's `normalize.less` sets `[hidden] { display: none; }` but bootstrap.min.css set `[hidden] { display: none !important; }` so we also need the `!important` here to be able to override the default hidden behavior on the sphinx rendered scikit-learn.org. See: https://github.com/scikit-learn/scikit-learn/issues/21755 */display: inline-block !important;position: relative;}#sk-container-id-1 div.sk-text-repr-fallback {display: none;}</style><div id=\"sk-container-id-1\" class=\"sk-top-container\"><div class=\"sk-text-repr-fallback\"><pre>StandardScaler()</pre><b>In a Jupyter environment, please rerun this cell to show the HTML representation or trust the notebook. <br />On GitHub, the HTML representation is unable to render, please try loading this page with nbviewer.org.</b></div><div class=\"sk-container\" hidden><div class=\"sk-item\"><div class=\"sk-estimator sk-toggleable\"><input class=\"sk-toggleable__control sk-hidden--visually\" id=\"sk-estimator-id-1\" type=\"checkbox\" checked><label for=\"sk-estimator-id-1\" class=\"sk-toggleable__label sk-toggleable__label-arrow\">StandardScaler</label><div class=\"sk-toggleable__content\"><pre>StandardScaler()</pre></div></div></div></div></div>"
            ]
          },
          "metadata": {},
          "execution_count": 17
        }
      ]
    },
    {
      "cell_type": "code",
      "source": [
        "x_train_scaled = scaler.transform(x_train)\n",
        "x_test_scaled = scaler.transform(x_test)"
      ],
      "metadata": {
        "id": "UfPOLKiEokkQ"
      },
      "execution_count": 18,
      "outputs": []
    },
    {
      "cell_type": "markdown",
      "source": [
        "## **Neural network model**"
      ],
      "metadata": {
        "id": "31DBgHwSpZX6"
      }
    },
    {
      "cell_type": "code",
      "source": [
        "model = Sequential()"
      ],
      "metadata": {
        "id": "rFsfSh_MrsEo"
      },
      "execution_count": 19,
      "outputs": []
    },
    {
      "cell_type": "code",
      "source": [
        "model.add(Dense(128, input_dim=13, activation='relu'))\n",
        "model.add(Dense(64, activation='relu'))\n",
        "\n",
        "#Output layer\n",
        "model.add(Dense(1, activation='linear'))\n",
        "model.compile(loss='mean_squared_error', optimizer='adam', metrics=['mean_absolute_error'])\n",
        "\n",
        "history = model.fit(x_train_scaled, y_train, validation_split=0.2, epochs =100)"
      ],
      "metadata": {
        "colab": {
          "base_uri": "https://localhost:8080/"
        },
        "id": "Q_o3sUv-o_jQ",
        "outputId": "968892a4-d226-428b-d0ea-219b7105f873"
      },
      "execution_count": 20,
      "outputs": [
        {
          "output_type": "stream",
          "name": "stdout",
          "text": [
            "Epoch 1/100\n",
            "8/8 [==============================] - 2s 105ms/step - loss: 528.9600 - mean_absolute_error: 21.1223 - val_loss: 499.9029 - val_mean_absolute_error: 20.8505\n",
            "Epoch 2/100\n",
            "8/8 [==============================] - 0s 26ms/step - loss: 468.9336 - mean_absolute_error: 19.6617 - val_loss: 440.0611 - val_mean_absolute_error: 19.3979\n",
            "Epoch 3/100\n",
            "8/8 [==============================] - 0s 14ms/step - loss: 399.2465 - mean_absolute_error: 17.9311 - val_loss: 368.7302 - val_mean_absolute_error: 17.5306\n",
            "Epoch 4/100\n",
            "8/8 [==============================] - 0s 23ms/step - loss: 317.9656 - mean_absolute_error: 15.7680 - val_loss: 286.1086 - val_mean_absolute_error: 15.1224\n",
            "Epoch 5/100\n",
            "8/8 [==============================] - 0s 22ms/step - loss: 232.8150 - mean_absolute_error: 13.2319 - val_loss: 200.4204 - val_mean_absolute_error: 12.3414\n",
            "Epoch 6/100\n",
            "8/8 [==============================] - 0s 20ms/step - loss: 146.0525 - mean_absolute_error: 10.2330 - val_loss: 129.0829 - val_mean_absolute_error: 9.4497\n",
            "Epoch 7/100\n",
            "8/8 [==============================] - 0s 28ms/step - loss: 88.3794 - mean_absolute_error: 7.7457 - val_loss: 84.9580 - val_mean_absolute_error: 7.0402\n",
            "Epoch 8/100\n",
            "8/8 [==============================] - 0s 25ms/step - loss: 56.0939 - mean_absolute_error: 5.8898 - val_loss: 70.4702 - val_mean_absolute_error: 5.6306\n",
            "Epoch 9/100\n",
            "8/8 [==============================] - 0s 15ms/step - loss: 46.6947 - mean_absolute_error: 5.1216 - val_loss: 64.6562 - val_mean_absolute_error: 5.3050\n",
            "Epoch 10/100\n",
            "8/8 [==============================] - 0s 31ms/step - loss: 37.3196 - mean_absolute_error: 4.4806 - val_loss: 58.9049 - val_mean_absolute_error: 5.0213\n",
            "Epoch 11/100\n",
            "8/8 [==============================] - 0s 29ms/step - loss: 29.0804 - mean_absolute_error: 3.9780 - val_loss: 54.2504 - val_mean_absolute_error: 4.7492\n",
            "Epoch 12/100\n",
            "8/8 [==============================] - 0s 17ms/step - loss: 24.3909 - mean_absolute_error: 3.6298 - val_loss: 50.5576 - val_mean_absolute_error: 4.5798\n",
            "Epoch 13/100\n",
            "8/8 [==============================] - 0s 18ms/step - loss: 21.8968 - mean_absolute_error: 3.4552 - val_loss: 47.8235 - val_mean_absolute_error: 4.4760\n",
            "Epoch 14/100\n",
            "8/8 [==============================] - 0s 25ms/step - loss: 20.2348 - mean_absolute_error: 3.3357 - val_loss: 45.0849 - val_mean_absolute_error: 4.3770\n",
            "Epoch 15/100\n",
            "8/8 [==============================] - 0s 40ms/step - loss: 18.9549 - mean_absolute_error: 3.2150 - val_loss: 43.1668 - val_mean_absolute_error: 4.3024\n",
            "Epoch 16/100\n",
            "8/8 [==============================] - 0s 34ms/step - loss: 17.8900 - mean_absolute_error: 3.1252 - val_loss: 40.8093 - val_mean_absolute_error: 4.2164\n",
            "Epoch 17/100\n",
            "8/8 [==============================] - 0s 29ms/step - loss: 16.9588 - mean_absolute_error: 3.0506 - val_loss: 38.7236 - val_mean_absolute_error: 4.1134\n",
            "Epoch 18/100\n",
            "8/8 [==============================] - 0s 17ms/step - loss: 16.1225 - mean_absolute_error: 2.9707 - val_loss: 36.9673 - val_mean_absolute_error: 4.0087\n",
            "Epoch 19/100\n",
            "8/8 [==============================] - 0s 31ms/step - loss: 15.4401 - mean_absolute_error: 2.9059 - val_loss: 35.3257 - val_mean_absolute_error: 3.8912\n",
            "Epoch 20/100\n",
            "8/8 [==============================] - 0s 25ms/step - loss: 14.8602 - mean_absolute_error: 2.8438 - val_loss: 34.1497 - val_mean_absolute_error: 3.8151\n",
            "Epoch 21/100\n",
            "8/8 [==============================] - 0s 30ms/step - loss: 14.2716 - mean_absolute_error: 2.7787 - val_loss: 33.8026 - val_mean_absolute_error: 3.8070\n",
            "Epoch 22/100\n",
            "8/8 [==============================] - 0s 15ms/step - loss: 13.7559 - mean_absolute_error: 2.7190 - val_loss: 32.4507 - val_mean_absolute_error: 3.7462\n",
            "Epoch 23/100\n",
            "8/8 [==============================] - 0s 27ms/step - loss: 13.2560 - mean_absolute_error: 2.6813 - val_loss: 31.5089 - val_mean_absolute_error: 3.7072\n",
            "Epoch 24/100\n",
            "8/8 [==============================] - 0s 17ms/step - loss: 12.8286 - mean_absolute_error: 2.6368 - val_loss: 30.8672 - val_mean_absolute_error: 3.6529\n",
            "Epoch 25/100\n",
            "8/8 [==============================] - 0s 13ms/step - loss: 12.4665 - mean_absolute_error: 2.5916 - val_loss: 30.2393 - val_mean_absolute_error: 3.6117\n",
            "Epoch 26/100\n",
            "8/8 [==============================] - 0s 27ms/step - loss: 12.1009 - mean_absolute_error: 2.5458 - val_loss: 29.7518 - val_mean_absolute_error: 3.5675\n",
            "Epoch 27/100\n",
            "8/8 [==============================] - 0s 17ms/step - loss: 11.7231 - mean_absolute_error: 2.5069 - val_loss: 29.1705 - val_mean_absolute_error: 3.5359\n",
            "Epoch 28/100\n",
            "8/8 [==============================] - 0s 16ms/step - loss: 11.4742 - mean_absolute_error: 2.4755 - val_loss: 28.4194 - val_mean_absolute_error: 3.5045\n",
            "Epoch 29/100\n",
            "8/8 [==============================] - 0s 13ms/step - loss: 11.1526 - mean_absolute_error: 2.4401 - val_loss: 27.9750 - val_mean_absolute_error: 3.4762\n",
            "Epoch 30/100\n",
            "8/8 [==============================] - 0s 17ms/step - loss: 10.8954 - mean_absolute_error: 2.4055 - val_loss: 27.8658 - val_mean_absolute_error: 3.4557\n",
            "Epoch 31/100\n",
            "8/8 [==============================] - 0s 14ms/step - loss: 10.6467 - mean_absolute_error: 2.3705 - val_loss: 27.2805 - val_mean_absolute_error: 3.4168\n",
            "Epoch 32/100\n",
            "8/8 [==============================] - 0s 34ms/step - loss: 10.4323 - mean_absolute_error: 2.3476 - val_loss: 26.8031 - val_mean_absolute_error: 3.3931\n",
            "Epoch 33/100\n",
            "8/8 [==============================] - 0s 16ms/step - loss: 10.2445 - mean_absolute_error: 2.3305 - val_loss: 26.3254 - val_mean_absolute_error: 3.3752\n",
            "Epoch 34/100\n",
            "8/8 [==============================] - 0s 12ms/step - loss: 10.0109 - mean_absolute_error: 2.2979 - val_loss: 26.3837 - val_mean_absolute_error: 3.3620\n",
            "Epoch 35/100\n",
            "8/8 [==============================] - 0s 12ms/step - loss: 9.8244 - mean_absolute_error: 2.2685 - val_loss: 25.7909 - val_mean_absolute_error: 3.3407\n",
            "Epoch 36/100\n",
            "8/8 [==============================] - 0s 18ms/step - loss: 9.5990 - mean_absolute_error: 2.2481 - val_loss: 25.5860 - val_mean_absolute_error: 3.3251\n",
            "Epoch 37/100\n",
            "8/8 [==============================] - 0s 20ms/step - loss: 9.4343 - mean_absolute_error: 2.2230 - val_loss: 25.3907 - val_mean_absolute_error: 3.3071\n",
            "Epoch 38/100\n",
            "8/8 [==============================] - 0s 13ms/step - loss: 9.2651 - mean_absolute_error: 2.2022 - val_loss: 25.3548 - val_mean_absolute_error: 3.3050\n",
            "Epoch 39/100\n",
            "8/8 [==============================] - 0s 13ms/step - loss: 9.1108 - mean_absolute_error: 2.1732 - val_loss: 25.2910 - val_mean_absolute_error: 3.3078\n",
            "Epoch 40/100\n",
            "8/8 [==============================] - 0s 14ms/step - loss: 8.9766 - mean_absolute_error: 2.1717 - val_loss: 24.5930 - val_mean_absolute_error: 3.2847\n",
            "Epoch 41/100\n",
            "8/8 [==============================] - 0s 14ms/step - loss: 8.8391 - mean_absolute_error: 2.1570 - val_loss: 24.5142 - val_mean_absolute_error: 3.2600\n",
            "Epoch 42/100\n",
            "8/8 [==============================] - 0s 20ms/step - loss: 8.7044 - mean_absolute_error: 2.1204 - val_loss: 24.5149 - val_mean_absolute_error: 3.2526\n",
            "Epoch 43/100\n",
            "8/8 [==============================] - 0s 13ms/step - loss: 8.5416 - mean_absolute_error: 2.0991 - val_loss: 24.3933 - val_mean_absolute_error: 3.2509\n",
            "Epoch 44/100\n",
            "8/8 [==============================] - 0s 16ms/step - loss: 8.4409 - mean_absolute_error: 2.1075 - val_loss: 23.7359 - val_mean_absolute_error: 3.2191\n",
            "Epoch 45/100\n",
            "8/8 [==============================] - 0s 12ms/step - loss: 8.3261 - mean_absolute_error: 2.0982 - val_loss: 23.6247 - val_mean_absolute_error: 3.2193\n",
            "Epoch 46/100\n",
            "8/8 [==============================] - 0s 30ms/step - loss: 8.2206 - mean_absolute_error: 2.0742 - val_loss: 23.8920 - val_mean_absolute_error: 3.2079\n",
            "Epoch 47/100\n",
            "8/8 [==============================] - 0s 22ms/step - loss: 8.0790 - mean_absolute_error: 2.0457 - val_loss: 23.4507 - val_mean_absolute_error: 3.1975\n",
            "Epoch 48/100\n",
            "8/8 [==============================] - 0s 17ms/step - loss: 7.9718 - mean_absolute_error: 2.0469 - val_loss: 23.3761 - val_mean_absolute_error: 3.2004\n",
            "Epoch 49/100\n",
            "8/8 [==============================] - 0s 11ms/step - loss: 7.8678 - mean_absolute_error: 2.0336 - val_loss: 23.3964 - val_mean_absolute_error: 3.1967\n",
            "Epoch 50/100\n",
            "8/8 [==============================] - 0s 9ms/step - loss: 7.7606 - mean_absolute_error: 2.0193 - val_loss: 23.0661 - val_mean_absolute_error: 3.1749\n",
            "Epoch 51/100\n",
            "8/8 [==============================] - 0s 12ms/step - loss: 7.7589 - mean_absolute_error: 2.0263 - val_loss: 22.8964 - val_mean_absolute_error: 3.1758\n",
            "Epoch 52/100\n",
            "8/8 [==============================] - 0s 13ms/step - loss: 7.6034 - mean_absolute_error: 2.0010 - val_loss: 22.9422 - val_mean_absolute_error: 3.1620\n",
            "Epoch 53/100\n",
            "8/8 [==============================] - 0s 16ms/step - loss: 7.5431 - mean_absolute_error: 1.9856 - val_loss: 22.9345 - val_mean_absolute_error: 3.1585\n",
            "Epoch 54/100\n",
            "8/8 [==============================] - 0s 15ms/step - loss: 7.5441 - mean_absolute_error: 1.9875 - val_loss: 22.7220 - val_mean_absolute_error: 3.1568\n",
            "Epoch 55/100\n",
            "8/8 [==============================] - 0s 17ms/step - loss: 7.3880 - mean_absolute_error: 1.9710 - val_loss: 22.6226 - val_mean_absolute_error: 3.1278\n",
            "Epoch 56/100\n",
            "8/8 [==============================] - 0s 26ms/step - loss: 7.3261 - mean_absolute_error: 1.9566 - val_loss: 22.5659 - val_mean_absolute_error: 3.1267\n",
            "Epoch 57/100\n",
            "8/8 [==============================] - 0s 23ms/step - loss: 7.2680 - mean_absolute_error: 1.9443 - val_loss: 22.5210 - val_mean_absolute_error: 3.1100\n",
            "Epoch 58/100\n",
            "8/8 [==============================] - 0s 36ms/step - loss: 7.2287 - mean_absolute_error: 1.9494 - val_loss: 22.0444 - val_mean_absolute_error: 3.1020\n",
            "Epoch 59/100\n",
            "8/8 [==============================] - 0s 63ms/step - loss: 7.1514 - mean_absolute_error: 1.9471 - val_loss: 22.1247 - val_mean_absolute_error: 3.1055\n",
            "Epoch 60/100\n",
            "8/8 [==============================] - 0s 21ms/step - loss: 7.0982 - mean_absolute_error: 1.9329 - val_loss: 21.9726 - val_mean_absolute_error: 3.0977\n",
            "Epoch 61/100\n",
            "8/8 [==============================] - 0s 31ms/step - loss: 7.0524 - mean_absolute_error: 1.9225 - val_loss: 22.2026 - val_mean_absolute_error: 3.0993\n",
            "Epoch 62/100\n",
            "8/8 [==============================] - 0s 21ms/step - loss: 6.9344 - mean_absolute_error: 1.9065 - val_loss: 21.8563 - val_mean_absolute_error: 3.0845\n",
            "Epoch 63/100\n",
            "8/8 [==============================] - 0s 22ms/step - loss: 6.9153 - mean_absolute_error: 1.9063 - val_loss: 21.5831 - val_mean_absolute_error: 3.0633\n",
            "Epoch 64/100\n",
            "8/8 [==============================] - 0s 13ms/step - loss: 6.8778 - mean_absolute_error: 1.9058 - val_loss: 21.9511 - val_mean_absolute_error: 3.0904\n",
            "Epoch 65/100\n",
            "8/8 [==============================] - 0s 22ms/step - loss: 6.7915 - mean_absolute_error: 1.8868 - val_loss: 21.7727 - val_mean_absolute_error: 3.0763\n",
            "Epoch 66/100\n",
            "8/8 [==============================] - 0s 14ms/step - loss: 6.7355 - mean_absolute_error: 1.8789 - val_loss: 21.7247 - val_mean_absolute_error: 3.0702\n",
            "Epoch 67/100\n",
            "8/8 [==============================] - 0s 27ms/step - loss: 6.7820 - mean_absolute_error: 1.8941 - val_loss: 21.2330 - val_mean_absolute_error: 3.0544\n",
            "Epoch 68/100\n",
            "8/8 [==============================] - 0s 17ms/step - loss: 6.7962 - mean_absolute_error: 1.8884 - val_loss: 21.9516 - val_mean_absolute_error: 3.0960\n",
            "Epoch 69/100\n",
            "8/8 [==============================] - 0s 27ms/step - loss: 6.5719 - mean_absolute_error: 1.8555 - val_loss: 21.7057 - val_mean_absolute_error: 3.0709\n",
            "Epoch 70/100\n",
            "8/8 [==============================] - 0s 34ms/step - loss: 6.5265 - mean_absolute_error: 1.8539 - val_loss: 21.3586 - val_mean_absolute_error: 3.0526\n",
            "Epoch 71/100\n",
            "8/8 [==============================] - 0s 19ms/step - loss: 6.6031 - mean_absolute_error: 1.8705 - val_loss: 21.1505 - val_mean_absolute_error: 3.0413\n",
            "Epoch 72/100\n",
            "8/8 [==============================] - 0s 11ms/step - loss: 6.5606 - mean_absolute_error: 1.8470 - val_loss: 21.8095 - val_mean_absolute_error: 3.0794\n",
            "Epoch 73/100\n",
            "8/8 [==============================] - 0s 16ms/step - loss: 6.4467 - mean_absolute_error: 1.8354 - val_loss: 21.2779 - val_mean_absolute_error: 3.0451\n",
            "Epoch 74/100\n",
            "8/8 [==============================] - 0s 13ms/step - loss: 6.4648 - mean_absolute_error: 1.8411 - val_loss: 20.7051 - val_mean_absolute_error: 3.0246\n",
            "Epoch 75/100\n",
            "8/8 [==============================] - 0s 23ms/step - loss: 6.4069 - mean_absolute_error: 1.8240 - val_loss: 21.5048 - val_mean_absolute_error: 3.0470\n",
            "Epoch 76/100\n",
            "8/8 [==============================] - 0s 17ms/step - loss: 6.2774 - mean_absolute_error: 1.8105 - val_loss: 21.3512 - val_mean_absolute_error: 3.0423\n",
            "Epoch 77/100\n",
            "8/8 [==============================] - 0s 22ms/step - loss: 6.2033 - mean_absolute_error: 1.8039 - val_loss: 21.1411 - val_mean_absolute_error: 3.0379\n",
            "Epoch 78/100\n",
            "8/8 [==============================] - 0s 18ms/step - loss: 6.1883 - mean_absolute_error: 1.8071 - val_loss: 20.9205 - val_mean_absolute_error: 3.0280\n",
            "Epoch 79/100\n",
            "8/8 [==============================] - 0s 19ms/step - loss: 6.1632 - mean_absolute_error: 1.8085 - val_loss: 20.7113 - val_mean_absolute_error: 3.0055\n",
            "Epoch 80/100\n",
            "8/8 [==============================] - 0s 27ms/step - loss: 6.1526 - mean_absolute_error: 1.8021 - val_loss: 20.8090 - val_mean_absolute_error: 3.0023\n",
            "Epoch 81/100\n",
            "8/8 [==============================] - 0s 29ms/step - loss: 6.1719 - mean_absolute_error: 1.8095 - val_loss: 20.5330 - val_mean_absolute_error: 3.0089\n",
            "Epoch 82/100\n",
            "8/8 [==============================] - 0s 24ms/step - loss: 6.0621 - mean_absolute_error: 1.7947 - val_loss: 20.8274 - val_mean_absolute_error: 3.0007\n",
            "Epoch 83/100\n",
            "8/8 [==============================] - 0s 41ms/step - loss: 6.0273 - mean_absolute_error: 1.7800 - val_loss: 20.9748 - val_mean_absolute_error: 3.0097\n",
            "Epoch 84/100\n",
            "8/8 [==============================] - 0s 46ms/step - loss: 5.9490 - mean_absolute_error: 1.7714 - val_loss: 20.5233 - val_mean_absolute_error: 3.0005\n",
            "Epoch 85/100\n",
            "8/8 [==============================] - 0s 27ms/step - loss: 5.9625 - mean_absolute_error: 1.7815 - val_loss: 20.7162 - val_mean_absolute_error: 3.0073\n",
            "Epoch 86/100\n",
            "8/8 [==============================] - 0s 29ms/step - loss: 5.8511 - mean_absolute_error: 1.7613 - val_loss: 20.6666 - val_mean_absolute_error: 2.9945\n",
            "Epoch 87/100\n",
            "8/8 [==============================] - 0s 40ms/step - loss: 5.8588 - mean_absolute_error: 1.7589 - val_loss: 20.6014 - val_mean_absolute_error: 2.9853\n",
            "Epoch 88/100\n",
            "8/8 [==============================] - 0s 56ms/step - loss: 5.8819 - mean_absolute_error: 1.7603 - val_loss: 20.2072 - val_mean_absolute_error: 2.9768\n",
            "Epoch 89/100\n",
            "8/8 [==============================] - 0s 32ms/step - loss: 5.8290 - mean_absolute_error: 1.7580 - val_loss: 20.4693 - val_mean_absolute_error: 2.9723\n",
            "Epoch 90/100\n",
            "8/8 [==============================] - 0s 15ms/step - loss: 5.7643 - mean_absolute_error: 1.7403 - val_loss: 20.7458 - val_mean_absolute_error: 2.9965\n",
            "Epoch 91/100\n",
            "8/8 [==============================] - 0s 30ms/step - loss: 5.7544 - mean_absolute_error: 1.7371 - val_loss: 20.3907 - val_mean_absolute_error: 2.9793\n",
            "Epoch 92/100\n",
            "8/8 [==============================] - 0s 28ms/step - loss: 5.6891 - mean_absolute_error: 1.7426 - val_loss: 20.3757 - val_mean_absolute_error: 2.9542\n",
            "Epoch 93/100\n",
            "8/8 [==============================] - 0s 27ms/step - loss: 5.7083 - mean_absolute_error: 1.7243 - val_loss: 20.6206 - val_mean_absolute_error: 2.9735\n",
            "Epoch 94/100\n",
            "8/8 [==============================] - 0s 33ms/step - loss: 5.6904 - mean_absolute_error: 1.7306 - val_loss: 19.8693 - val_mean_absolute_error: 2.9388\n",
            "Epoch 95/100\n",
            "8/8 [==============================] - 0s 22ms/step - loss: 5.6251 - mean_absolute_error: 1.7269 - val_loss: 20.4059 - val_mean_absolute_error: 2.9647\n",
            "Epoch 96/100\n",
            "8/8 [==============================] - 0s 18ms/step - loss: 5.5979 - mean_absolute_error: 1.7070 - val_loss: 20.3886 - val_mean_absolute_error: 2.9672\n",
            "Epoch 97/100\n",
            "8/8 [==============================] - 0s 23ms/step - loss: 5.4652 - mean_absolute_error: 1.6991 - val_loss: 19.8769 - val_mean_absolute_error: 2.9248\n",
            "Epoch 98/100\n",
            "8/8 [==============================] - 0s 46ms/step - loss: 5.5414 - mean_absolute_error: 1.7203 - val_loss: 19.7044 - val_mean_absolute_error: 2.9285\n",
            "Epoch 99/100\n",
            "8/8 [==============================] - 0s 49ms/step - loss: 5.4843 - mean_absolute_error: 1.6959 - val_loss: 20.1843 - val_mean_absolute_error: 2.9549\n",
            "Epoch 100/100\n",
            "8/8 [==============================] - 0s 18ms/step - loss: 5.4382 - mean_absolute_error: 1.6885 - val_loss: 20.1010 - val_mean_absolute_error: 2.9368\n"
          ]
        }
      ]
    },
    {
      "cell_type": "code",
      "source": [
        "model.summary()"
      ],
      "metadata": {
        "colab": {
          "base_uri": "https://localhost:8080/"
        },
        "id": "BdehLeaUbGyz",
        "outputId": "1a47b81b-f53f-409a-e0dd-2bf5dbb37c99"
      },
      "execution_count": 21,
      "outputs": [
        {
          "output_type": "stream",
          "name": "stdout",
          "text": [
            "Model: \"sequential\"\n",
            "_________________________________________________________________\n",
            " Layer (type)                Output Shape              Param #   \n",
            "=================================================================\n",
            " dense (Dense)               (None, 128)               1792      \n",
            "                                                                 \n",
            " dense_1 (Dense)             (None, 64)                8256      \n",
            "                                                                 \n",
            " dense_2 (Dense)             (None, 1)                 65        \n",
            "                                                                 \n",
            "=================================================================\n",
            "Total params: 10113 (39.50 KB)\n",
            "Trainable params: 10113 (39.50 KB)\n",
            "Non-trainable params: 0 (0.00 Byte)\n",
            "_________________________________________________________________\n"
          ]
        }
      ]
    },
    {
      "cell_type": "code",
      "source": [
        "# plot the training and validation accuracy and loss at each epoch\n",
        "loss = history.history['loss']\n",
        "val_loss = history.history['val_loss']\n",
        "epochs = range(1, len(loss) + 1)\n",
        "plt.plot(epochs, loss, 'y', label='Training loss')\n",
        "plt.plot(epochs, val_loss, 'r', label='Validation loss')\n",
        "plt.title('Training and validation loss')\n",
        "plt.xlabel('Epochs')\n",
        "plt.ylabel('Loss')\n",
        "plt.legend()\n",
        "plt.show()"
      ],
      "metadata": {
        "colab": {
          "base_uri": "https://localhost:8080/",
          "height": 472
        },
        "id": "ZOcSGjYKbnX6",
        "outputId": "71b34db0-e228-4103-f213-1889e1aeb614"
      },
      "execution_count": 22,
      "outputs": [
        {
          "output_type": "display_data",
          "data": {
            "text/plain": [
              "<Figure size 640x480 with 1 Axes>"
            ],
            "image/png": "[encoded data removed]"
          },
          "metadata": {}
        }
      ]
    },
    {
      "cell_type": "code",
      "source": [
        "mae = history.history['mean_absolute_error']\n",
        "val_mae = history.history['val_mean_absolute_error']\n",
        "plt.plot(epochs, mae, 'y', label='Training MAE')\n",
        "plt.plot(epochs, val_mae, 'r', label='Validation MAE')\n",
        "plt.title('Training and validation MAE')\n",
        "plt.xlabel('Epochs')\n",
        "plt.ylabel('Mean Absolute Error')\n",
        "plt.legend()\n",
        "plt.show()"
      ],
      "metadata": {
        "colab": {
          "base_uri": "https://localhost:8080/",
          "height": 472
        },
        "id": "motkBMmgbwW7",
        "outputId": "e96f9d04-c13a-4f5c-9c1c-204feffbcaf8"
      },
      "execution_count": 23,
      "outputs": [
        {
          "output_type": "display_data",
          "data": {
            "text/plain": [
              "<Figure size 640x480 with 1 Axes>"
            ],
            "image/png": "[encoded data removed]"
          },
          "metadata": {}
        }
      ]
    },
    {
      "cell_type": "code",
      "source": [
        "mae = history.history['mean_absolute_error']\n",
        "val_mae = history.history['val_mean_absolute_error']\n",
        "plt.plot(epochs, mae, 'y', label='Training MAE')\n",
        "plt.plot(epochs, val_mae, 'r', label='Validation MAE')\n",
        "plt.title('Training and validation MAE')\n",
        "plt.xlabel('Epochs')\n",
        "plt.ylabel('Accuracy')\n",
        "plt.legend()\n",
        "plt.show()"
      ],
      "metadata": {
        "colab": {
          "base_uri": "https://localhost:8080/",
          "height": 472
        },
        "id": "asapF0edb7Qi",
        "outputId": "abea0bf6-d539-4e9a-e328-3e99d2d029cf"
      },
      "execution_count": 24,
      "outputs": [
        {
          "output_type": "display_data",
          "data": {
            "text/plain": [
              "<Figure size 640x480 with 1 Axes>"
            ],
            "image/png": "[encoded data removed]"
          },
          "metadata": {}
        }
      ]
    },
    {
      "cell_type": "code",
      "source": [
        "# Get predictions with the trained neural network model\n",
        "nn_preds = model.predict(x_test_scaled)"
      ],
      "metadata": {
        "colab": {
          "base_uri": "https://localhost:8080/"
        },
        "id": "JcgEFD9_qyRZ",
        "outputId": "79c8dcc8-ee78-4eec-91ed-8c27d8985e82"
      },
      "execution_count": 25,
      "outputs": [
        {
          "output_type": "stream",
          "name": "stdout",
          "text": [
            "3/3 [==============================] - 0s 5ms/step\n"
          ]
        }
      ]
    },
    {
      "cell_type": "code",
      "source": [
        "# See the actual and predicted values for 1st 5 datapoints of test data\n",
        "results_df = pd.DataFrame({'Actual Value': y_test[:10], 'Predicted Value': nn_preds[:10].flatten()})\n",
        "print(results_df)"
      ],
      "metadata": {
        "colab": {
          "base_uri": "https://localhost:8080/"
        },
        "id": "_jeZoOaNrYL5",
        "outputId": "27973abd-70b9-4730-a63f-b88680320def"
      },
      "execution_count": 26,
      "outputs": [
        {
          "output_type": "stream",
          "name": "stdout",
          "text": [
            "     Actual Value  Predicted Value\n",
            "13           20.4        17.689655\n",
            "455          14.1        13.486576\n",
            "141          14.4        14.215719\n",
            "491          13.6        16.557716\n",
            "21           19.6        16.603704\n",
            "298          22.5        24.863102\n",
            "218          21.5        20.979240\n",
            "40           34.9        35.242474\n",
            "470          19.9        17.343060\n",
            "299          29.0        33.260567\n"
          ]
        }
      ]
    },
    {
      "cell_type": "code",
      "source": [
        "# Evaluate the model\n",
        "nn_mse = mean_squared_error(y_test, nn_preds)\n",
        "nn_mae = mean_absolute_error(y_test, nn_preds)\n",
        "\n",
        "print(\"Neural Network Mean Squared Error:\", nn_mse)\n",
        "print(\"Neural Network Mean Absolute Error:\", nn_mae)"
      ],
      "metadata": {
        "colab": {
          "base_uri": "https://localhost:8080/"
        },
        "id": "VWM5B6FVrgC0",
        "outputId": "6ff9f020-9a86-43c6-a3bd-466953f91506"
      },
      "execution_count": 27,
      "outputs": [
        {
          "output_type": "stream",
          "name": "stdout",
          "text": [
            "Neural Network Mean Squared Error: 15.402628442189437\n",
            "Neural Network Mean Absolute Error: 2.4668661491780344\n"
          ]
        }
      ]
    },
    {
      "cell_type": "markdown",
      "source": [
        "## **Comparison with other ML models**"
      ],
      "metadata": {
        "id": "daWWWLzDsfb0"
      }
    },
    {
      "cell_type": "markdown",
      "source": [
        "### **Linear Regression**"
      ],
      "metadata": {
        "id": "YYUuPdjrskho"
      }
    },
    {
      "cell_type": "code",
      "source": [
        "linear_reg = LinearRegression()\n",
        "linear_reg.fit(x_train_scaled, y_train)\n",
        "linear_reg_preds = linear_reg.predict(x_test_scaled)\n",
        "\n",
        "# Evaluate the model\n",
        "linear_reg_mse = mean_squared_error(y_test, linear_reg_preds)\n",
        "linear_reg_mae = mean_absolute_error(y_test, linear_reg_preds)\n",
        "\n",
        "print(\"Linear Regression Mean Squared Error:\", linear_reg_mse)\n",
        "print(\"Linear Regression Mean Absolute Error:\", linear_reg_mae)"
      ],
      "metadata": {
        "colab": {
          "base_uri": "https://localhost:8080/"
        },
        "id": "4VmU4uGMyJmN",
        "outputId": "7dc664c8-76de-4e14-db6d-400ace0ec622"
      },
      "execution_count": 28,
      "outputs": [
        {
          "output_type": "stream",
          "name": "stdout",
          "text": [
            "Linear Regression Mean Squared Error: 18.763177563093123\n",
            "Linear Regression Mean Absolute Error: 3.2682784296779612\n"
          ]
        }
      ]
    },
    {
      "cell_type": "markdown",
      "source": [
        "### **Ridge Regression**"
      ],
      "metadata": {
        "id": "QeEU4YuRuPxO"
      }
    },
    {
      "cell_type": "code",
      "source": [
        "# Perform Gridsearch\n",
        "params = {'alpha': [0.01, 0.1, 1, 10, 100]}\n",
        "\n",
        "ridge_model = Ridge()\n",
        "ridge_grid = GridSearchCV(ridge_model, params, cv=5, scoring='neg_mean_squared_error')\n",
        "ridge_grid.fit(x_train_scaled, y_train)\n",
        "\n",
        "ridge_grid.best_estimator_"
      ],
      "metadata": {
        "colab": {
          "base_uri": "https://localhost:8080/",
          "height": 75
        },
        "id": "ut9A9feTurh0",
        "outputId": "9af0adad-8a75-45ab-be07-133e7e31e062"
      },
      "execution_count": 29,
      "outputs": [
        {
          "output_type": "execute_result",
          "data": {
            "text/plain": [
              "Ridge(alpha=10)"
            ],
            "text/html": [
              "<style>#sk-container-id-2 {color: black;background-color: white;}#sk-container-id-2 pre{padding: 0;}#sk-container-id-2 div.sk-toggleable {background-color: white;}#sk-container-id-2 label.sk-toggleable__label {cursor: pointer;display: block;width: 100%;margin-bottom: 0;padding: 0.3em;box-sizing: border-box;text-align: center;}#sk-container-id-2 label.sk-toggleable__label-arrow:before {content: \"▸\";float: left;margin-right: 0.25em;color: #696969;}#sk-container-id-2 label.sk-toggleable__label-arrow:hover:before {color: black;}#sk-container-id-2 div.sk-estimator:hover label.sk-toggleable__label-arrow:before {color: black;}#sk-container-id-2 div.sk-toggleable__content {max-height: 0;max-width: 0;overflow: hidden;text-align: left;background-color: #f0f8ff;}#sk-container-id-2 div.sk-toggleable__content pre {margin: 0.2em;color: black;border-radius: 0.25em;background-color: #f0f8ff;}#sk-container-id-2 input.sk-toggleable__control:checked~div.sk-toggleable__content {max-height: 200px;max-width: 100%;overflow: auto;}#sk-container-id-2 input.sk-toggleable__control:checked~label.sk-toggleable__label-arrow:before {content: \"▾\";}#sk-container-id-2 div.sk-estimator input.sk-toggleable__control:checked~label.sk-toggleable__label {background-color: #d4ebff;}#sk-container-id-2 div.sk-label input.sk-toggleable__control:checked~label.sk-toggleable__label {background-color: #d4ebff;}#sk-container-id-2 input.sk-hidden--visually {border: 0;clip: rect(1px 1px 1px 1px);clip: rect(1px, 1px, 1px, 1px);height: 1px;margin: -1px;overflow: hidden;padding: 0;position: absolute;width: 1px;}#sk-container-id-2 div.sk-estimator {font-family: monospace;background-color: #f0f8ff;border: 1px dotted black;border-radius: 0.25em;box-sizing: border-box;margin-bottom: 0.5em;}#sk-container-id-2 div.sk-estimator:hover {background-color: #d4ebff;}#sk-container-id-2 div.sk-parallel-item::after {content: \"\";width: 100%;border-bottom: 1px solid gray;flex-grow: 1;}#sk-container-id-2 div.sk-label:hover label.sk-toggleable__label {background-color: #d4ebff;}#sk-container-id-2 div.sk-serial::before {content: \"\";position: absolute;border-left: 1px solid gray;box-sizing: border-box;top: 0;bottom: 0;left: 50%;z-index: 0;}#sk-container-id-2 div.sk-serial {display: flex;flex-direction: column;align-items: center;background-color: white;padding-right: 0.2em;padding-left: 0.2em;position: relative;}#sk-container-id-2 div.sk-item {position: relative;z-index: 1;}#sk-container-id-2 div.sk-parallel {display: flex;align-items: stretch;justify-content: center;background-color: white;position: relative;}#sk-container-id-2 div.sk-item::before, #sk-container-id-2 div.sk-parallel-item::before {content: \"\";position: absolute;border-left: 1px solid gray;box-sizing: border-box;top: 0;bottom: 0;left: 50%;z-index: -1;}#sk-container-id-2 div.sk-parallel-item {display: flex;flex-direction: column;z-index: 1;position: relative;background-color: white;}#sk-container-id-2 div.sk-parallel-item:first-child::after {align-self: flex-end;width: 50%;}#sk-container-id-2 div.sk-parallel-item:last-child::after {align-self: flex-start;width: 50%;}#sk-container-id-2 div.sk-parallel-item:only-child::after {width: 0;}#sk-container-id-2 div.sk-dashed-wrapped {border: 1px dashed gray;margin: 0 0.4em 0.5em 0.4em;box-sizing: border-box;padding-bottom: 0.4em;background-color: white;}#sk-container-id-2 div.sk-label label {font-family: monospace;font-weight: bold;display: inline-block;line-height: 1.2em;}#sk-container-id-2 div.sk-label-container {text-align: center;}#sk-container-id-2 div.sk-container {/* jupyter's `normalize.less` sets `[hidden] { display: none; }` but bootstrap.min.css set `[hidden] { display: none !important; }` so we also need the `!important` here to be able to override the default hidden behavior on the sphinx rendered scikit-learn.org. See: https://github.com/scikit-learn/scikit-learn/issues/21755 */display: inline-block !important;position: relative;}#sk-container-id-2 div.sk-text-repr-fallback {display: none;}</style><div id=\"sk-container-id-2\" class=\"sk-top-container\"><div class=\"sk-text-repr-fallback\"><pre>Ridge(alpha=10)</pre><b>In a Jupyter environment, please rerun this cell to show the HTML representation or trust the notebook. <br />On GitHub, the HTML representation is unable to render, please try loading this page with nbviewer.org.</b></div><div class=\"sk-container\" hidden><div class=\"sk-item\"><div class=\"sk-estimator sk-toggleable\"><input class=\"sk-toggleable__control sk-hidden--visually\" id=\"sk-estimator-id-2\" type=\"checkbox\" checked><label for=\"sk-estimator-id-2\" class=\"sk-toggleable__label sk-toggleable__label-arrow\">Ridge</label><div class=\"sk-toggleable__content\"><pre>Ridge(alpha=10)</pre></div></div></div></div></div>"
            ]
          },
          "metadata": {},
          "execution_count": 29
        }
      ]
    },
    {
      "cell_type": "code",
      "source": [
        "# Perform Ridge regression\n",
        "ridge_model = Ridge(alpha=10)\n",
        "ridge_model.fit(x_train_scaled, y_train)\n",
        "best_ridge_reg = ridge_grid.best_estimator_\n",
        "ridge_reg_preds = best_ridge_reg.predict(x_test_scaled)"
      ],
      "metadata": {
        "id": "bNHz_IW3w32U"
      },
      "execution_count": 30,
      "outputs": []
    },
    {
      "cell_type": "code",
      "source": [
        "# Evaluate the model\n",
        "ridge_reg_mse = mean_squared_error(y_test, ridge_reg_preds)\n",
        "ridge_reg_mae = mean_absolute_error(y_test, ridge_reg_preds)\n",
        "\n",
        "print(\"Ridge Regression Mean Squared Error:\", ridge_reg_mse)\n",
        "print(\"Ridge Regression Mean Absolute Error:\", ridge_reg_mae)"
      ],
      "metadata": {
        "colab": {
          "base_uri": "https://localhost:8080/"
        },
        "id": "0MZtXMvfw2QO",
        "outputId": "636eb81c-1de5-4b4c-9f25-c8218b047f56"
      },
      "execution_count": 31,
      "outputs": [
        {
          "output_type": "stream",
          "name": "stdout",
          "text": [
            "Ridge Regression Mean Squared Error: 19.05662675458317\n",
            "Ridge Regression Mean Absolute Error: 3.307938623567764\n"
          ]
        }
      ]
    },
    {
      "cell_type": "markdown",
      "source": [
        "### **Decision tree**"
      ],
      "metadata": {
        "id": "hsXrHP8jxXT7"
      }
    },
    {
      "cell_type": "code",
      "source": [
        "decision_tree = DecisionTreeRegressor(random_state=20)\n",
        "decision_tree.fit(x_train_scaled, y_train)\n",
        "decision_tree_preds = decision_tree.predict(x_test_scaled)\n",
        "\n",
        "# Evaluate the model\n",
        "decision_tree_mse = mean_squared_error(y_test, decision_tree_preds)\n",
        "decision_tree_mae = mean_absolute_error(y_test, decision_tree_preds)\n",
        "\n",
        "print(\"Decision Tree Regressor Mean Squared Error:\", decision_tree_mse)\n",
        "print(\"Decision Tree Regressor Mean Absolute Error:\", decision_tree_mae)"
      ],
      "metadata": {
        "colab": {
          "base_uri": "https://localhost:8080/"
        },
        "id": "C8mMEv86xpo4",
        "outputId": "28fa3959-9059-481b-af1e-34b9eafd0cd7"
      },
      "execution_count": 32,
      "outputs": [
        {
          "output_type": "stream",
          "name": "stdout",
          "text": [
            "Decision Tree Regressor Mean Squared Error: 21.63683544303797\n",
            "Decision Tree Regressor Mean Absolute Error: 2.831645569620253\n"
          ]
        }
      ]
    },
    {
      "cell_type": "markdown",
      "source": [
        "### **Random Forest Regressor**"
      ],
      "metadata": {
        "id": "itpo33BpymcY"
      }
    },
    {
      "cell_type": "code",
      "source": [
        "random_forest = RandomForestRegressor(random_state=20)\n",
        "random_forest.fit(x_train_scaled, y_train)\n",
        "random_forest_preds = random_forest.predict(x_test_scaled)\n",
        "\n",
        "# Evaluate the model\n",
        "random_forest_mse = mean_squared_error(y_test, random_forest_preds)\n",
        "random_forest_mae = mean_absolute_error(y_test, random_forest_preds)\n",
        "\n",
        "print(\"Random Forest Regressor Mean Squared Error:\", random_forest_mse)\n",
        "print(\"Random Forest Regressor Mean Absolute Error:\", random_forest_mae)"
      ],
      "metadata": {
        "colab": {
          "base_uri": "https://localhost:8080/"
        },
        "id": "A7PEgxFsxZun",
        "outputId": "9646c6ef-23c3-4cd9-c77c-4bf441735544"
      },
      "execution_count": 33,
      "outputs": [
        {
          "output_type": "stream",
          "name": "stdout",
          "text": [
            "Random Forest Regressor Mean Squared Error: 13.738271822784808\n",
            "Random Forest Regressor Mean Absolute Error: 2.215569620253165\n"
          ]
        }
      ]
    },
    {
      "cell_type": "markdown",
      "source": [
        "### **Gradient Boosting Regressor**"
      ],
      "metadata": {
        "id": "lzFmXUyQzHq6"
      }
    },
    {
      "cell_type": "code",
      "source": [
        "gradient_boosting = GradientBoostingRegressor(random_state=20)\n",
        "gradient_boosting.fit(x_train_scaled, y_train)\n",
        "gradient_boosting_preds = gradient_boosting.predict(x_test_scaled)\n",
        "\n",
        "# Evaluate the model\n",
        "gradient_boosting_mse = mean_squared_error(y_test, gradient_boosting_preds)\n",
        "gradient_boosting_mae = mean_absolute_error(y_test, gradient_boosting_preds)\n",
        "\n",
        "print(\"Gradient Boosting Regressor Mean Squared Error:\", gradient_boosting_mse)\n",
        "print(\"Gradient Boosting Regressor Mean Absolute Error:\", gradient_boosting_mae)"
      ],
      "metadata": {
        "colab": {
          "base_uri": "https://localhost:8080/"
        },
        "id": "_tP6mSx5zJX4",
        "outputId": "225449cd-01cd-4b2f-d72e-4ba1a8842709"
      },
      "execution_count": 34,
      "outputs": [
        {
          "output_type": "stream",
          "name": "stdout",
          "text": [
            "Gradient Boosting Regressor Mean Squared Error: 12.408851276594529\n",
            "Gradient Boosting Regressor Mean Absolute Error: 2.181573611478133\n"
          ]
        }
      ]
    },
    {
      "cell_type": "markdown",
      "source": [
        "### **XGBoost Regression**"
      ],
      "metadata": {
        "id": "PbUecdYwzfky"
      }
    },
    {
      "cell_type": "code",
      "source": [
        "xgb_reg = xgb.XGBRegressor(objective ='reg:squarederror', random_state=20)\n",
        "xgb_reg.fit(x_train_scaled, y_train)\n",
        "xgb_reg_preds = xgb_reg.predict(x_test_scaled)\n",
        "\n",
        "# Evaluate the model\n",
        "xgb_reg_mse = mean_squared_error(y_test, xgb_reg_preds)\n",
        "xgb_reg_mae = mean_absolute_error(y_test, xgb_reg_preds)\n",
        "\n",
        "print(\"XGBoost Regression Mean Squared Error:\", xgb_reg_mse)\n",
        "print(\"XGBoost Regression Mean Absolute Error:\", xgb_reg_mae)"
      ],
      "metadata": {
        "colab": {
          "base_uri": "https://localhost:8080/"
        },
        "id": "S0vn53jzzg72",
        "outputId": "ed07b8ab-33c5-4c63-b8ec-5a7997d759f3"
      },
      "execution_count": 35,
      "outputs": [
        {
          "output_type": "stream",
          "name": "stdout",
          "text": [
            "XGBoost Regression Mean Squared Error: 12.587614392466946\n",
            "XGBoost Regression Mean Absolute Error: 2.1867463606822337\n"
          ]
        }
      ]
    },
    {
      "cell_type": "code",
      "source": [
        "model_names = ['Neural Network', 'Linear Regression', 'Ridge Regression', 'Decision Tree',\n",
        "               'Random Forest', 'Gradient Boosting', 'XGBoost Regression']\n",
        "mae_values = [nn_mae, linear_reg_mae, ridge_reg_mae, decision_tree_mae,\n",
        "              random_forest_mae, gradient_boosting_mae, xgb_reg_mae]\n",
        "mse_values = [nn_mse, linear_reg_mse, ridge_reg_mse, decision_tree_mse,\n",
        "              random_forest_mse, gradient_boosting_mse, xgb_reg_mse]\n",
        "\n",
        "# Plotting MAE and MSE for each model\n",
        "fig, ax = plt.subplots(figsize=(10, 5))\n",
        "\n",
        "index = np.arange(len(model_names))\n",
        "\n",
        "# Plotting lines for MAE\n",
        "ax.plot(index, mae_values, marker='o', linestyle='-', label='Mean Absolute Error', color='b')\n",
        "\n",
        "# Plotting lines for MSE\n",
        "ax.plot(index, mse_values, marker='o', linestyle='-', label='Mean Squared Error', color='r')\n",
        "\n",
        "ax.set_xlabel('Models')\n",
        "ax.set_ylabel('Error')\n",
        "ax.set_title('Comparison of MAE and MSE for Different Models')\n",
        "ax.set_xticks(index)\n",
        "ax.set_xticklabels(model_names, rotation=45)\n",
        "ax.legend()\n",
        "\n",
        "plt.grid(True)\n",
        "plt.show()"
      ],
      "metadata": {
        "colab": {
          "base_uri": "https://localhost:8080/",
          "height": 582
        },
        "id": "LfBDw2-A24Qt",
        "outputId": "324ed338-dcaf-4ea7-9e19-180ec9ea4261"
      },
      "execution_count": 44,
      "outputs": [
        {
          "output_type": "display_data",
          "data": {
            "text/plain": [
              "<Figure size 1000x500 with 1 Axes>"
            ],
            "image/png": "[encoded data removed]"
          },
          "metadata": {}
        }
      ]
    },
    {
      "cell_type": "code",
      "source": [
        "# Create a DataFrame with actual and predicted values for the first 10 rows\n",
        "results_df = pd.DataFrame({\n",
        "    'Actual Value': y_test[:10],\n",
        "    'Neural Network Predicted Value': nn_preds[:10].flatten(),\n",
        "    'Linear Regression Predicted Value': linear_reg_preds[:10],\n",
        "    'Ridge Regression Predicted Value': ridge_reg_preds[:10],\n",
        "    'Decision Tree Predicted Value': decision_tree_preds[:10],\n",
        "    'Random Forest Predicted Value': random_forest_preds[:10],\n",
        "    'Gradient Boosting Predicted Value': gradient_boosting_preds[:10],\n",
        "    'XGBoost Regression Predicted Value': xgb_reg_preds[:10],\n",
        "})\n",
        "\n",
        "results_df"
      ],
      "metadata": {
        "colab": {
          "base_uri": "https://localhost:8080/",
          "height": 381
        },
        "id": "U85ioMXYz0NN",
        "outputId": "0b203433-b043-4893-b77e-bcd26cc4d94d"
      },
      "execution_count": 39,
      "outputs": [
        {
          "output_type": "execute_result",
          "data": {
            "text/plain": [
              "     Actual Value  Neural Network Predicted Value  \\\n",
              "13           20.4                       17.689655   \n",
              "455          14.1                       13.486576   \n",
              "141          14.4                       14.215719   \n",
              "491          13.6                       16.557716   \n",
              "21           19.6                       16.603704   \n",
              "298          22.5                       24.863102   \n",
              "218          21.5                       20.979240   \n",
              "40           34.9                       35.242474   \n",
              "470          19.9                       17.343060   \n",
              "299          29.0                       33.260567   \n",
              "\n",
              "     Linear Regression Predicted Value  Ridge Regression Predicted Value  \\\n",
              "13                           19.169192                         19.514291   \n",
              "455                          16.160021                         16.213793   \n",
              "141                           4.840620                          5.188351   \n",
              "491                          14.235149                         15.125435   \n",
              "21                           17.405552                         17.692917   \n",
              "298                          29.457386                         29.487829   \n",
              "218                          25.053782                         24.687049   \n",
              "40                           34.276886                         33.856585   \n",
              "470                          20.728228                         20.370650   \n",
              "299                          32.847852                         32.915908   \n",
              "\n",
              "     Decision Tree Predicted Value  Random Forest Predicted Value  \\\n",
              "13                            19.9                         20.295   \n",
              "455                           16.1                         14.554   \n",
              "141                           11.8                         12.700   \n",
              "491                           15.2                         14.734   \n",
              "21                            19.2                         19.184   \n",
              "298                           23.5                         24.209   \n",
              "218                           21.7                         20.501   \n",
              "40                            36.1                         35.727   \n",
              "470                           15.2                         17.055   \n",
              "299                           32.9                         33.567   \n",
              "\n",
              "     Gradient Boosting Predicted Value  XGBoost Regression Predicted Value  \n",
              "13                           20.965975                           20.406387  \n",
              "455                          14.209698                           15.044269  \n",
              "141                          11.453382                           12.148001  \n",
              "491                          15.072638                           15.285361  \n",
              "21                           17.703897                           18.753487  \n",
              "298                          24.981049                           23.827072  \n",
              "218                          19.370645                           20.433971  \n",
              "40                           37.925344                           40.058266  \n",
              "470                          17.466092                           16.296259  \n",
              "299                          34.795961                           33.729366  "
            ],
            "text/html": [
              "\n",
              "  <div id=\"df-e7587e5c-6393-49ef-a28a-9b29689800be\" class=\"colab-df-container\">\n",
              "    <div>\n",
              "<style scoped>\n",
              "    .dataframe tbody tr th:only-of-type {\n",
              "        vertical-align: middle;\n",
              "    }\n",
              "\n",
              "    .dataframe tbody tr th {\n",
              "        vertical-align: top;\n",
              "    }\n",
              "\n",
              "    .dataframe thead th {\n",
              "        text-align: right;\n",
              "    }\n",
              "</style>\n",
              "<table border=\"1\" class=\"dataframe\">\n",
              "  <thead>\n",
              "    <tr style=\"text-align: right;\">\n",
              "      <th></th>\n",
              "      <th>Actual Value</th>\n",
              "      <th>Neural Network Predicted Value</th>\n",
              "      <th>Linear Regression Predicted Value</th>\n",
              "      <th>Ridge Regression Predicted Value</th>\n",
              "      <th>Decision Tree Predicted Value</th>\n",
              "      <th>Random Forest Predicted Value</th>\n",
              "      <th>Gradient Boosting Predicted Value</th>\n",
              "      <th>XGBoost Regression Predicted Value</th>\n",
              "    </tr>\n",
              "  </thead>\n",
              "  <tbody>\n",
              "    <tr>\n",
              "      <th>13</th>\n",
              "      <td>20.4</td>\n",
              "      <td>17.689655</td>\n",
              "      <td>19.169192</td>\n",
              "      <td>19.514291</td>\n",
              "      <td>19.9</td>\n",
              "      <td>20.295</td>\n",
              "      <td>20.965975</td>\n",
              "      <td>20.406387</td>\n",
              "    </tr>\n",
              "    <tr>\n",
              "      <th>455</th>\n",
              "      <td>14.1</td>\n",
              "      <td>13.486576</td>\n",
              "      <td>16.160021</td>\n",
              "      <td>16.213793</td>\n",
              "      <td>16.1</td>\n",
              "      <td>14.554</td>\n",
              "      <td>14.209698</td>\n",
              "      <td>15.044269</td>\n",
              "    </tr>\n",
              "    <tr>\n",
              "      <th>141</th>\n",
              "      <td>14.4</td>\n",
              "      <td>14.215719</td>\n",
              "      <td>4.840620</td>\n",
              "      <td>5.188351</td>\n",
              "      <td>11.8</td>\n",
              "      <td>12.700</td>\n",
              "      <td>11.453382</td>\n",
              "      <td>12.148001</td>\n",
              "    </tr>\n",
              "    <tr>\n",
              "      <th>491</th>\n",
              "      <td>13.6</td>\n",
              "      <td>16.557716</td>\n",
              "      <td>14.235149</td>\n",
              "      <td>15.125435</td>\n",
              "      <td>15.2</td>\n",
              "      <td>14.734</td>\n",
              "      <td>15.072638</td>\n",
              "      <td>15.285361</td>\n",
              "    </tr>\n",
              "    <tr>\n",
              "      <th>21</th>\n",
              "      <td>19.6</td>\n",
              "      <td>16.603704</td>\n",
              "      <td>17.405552</td>\n",
              "      <td>17.692917</td>\n",
              "      <td>19.2</td>\n",
              "      <td>19.184</td>\n",
              "      <td>17.703897</td>\n",
              "      <td>18.753487</td>\n",
              "    </tr>\n",
              "    <tr>\n",
              "      <th>298</th>\n",
              "      <td>22.5</td>\n",
              "      <td>24.863102</td>\n",
              "      <td>29.457386</td>\n",
              "      <td>29.487829</td>\n",
              "      <td>23.5</td>\n",
              "      <td>24.209</td>\n",
              "      <td>24.981049</td>\n",
              "      <td>23.827072</td>\n",
              "    </tr>\n",
              "    <tr>\n",
              "      <th>218</th>\n",
              "      <td>21.5</td>\n",
              "      <td>20.979240</td>\n",
              "      <td>25.053782</td>\n",
              "      <td>24.687049</td>\n",
              "      <td>21.7</td>\n",
              "      <td>20.501</td>\n",
              "      <td>19.370645</td>\n",
              "      <td>20.433971</td>\n",
              "    </tr>\n",
              "    <tr>\n",
              "      <th>40</th>\n",
              "      <td>34.9</td>\n",
              "      <td>35.242474</td>\n",
              "      <td>34.276886</td>\n",
              "      <td>33.856585</td>\n",
              "      <td>36.1</td>\n",
              "      <td>35.727</td>\n",
              "      <td>37.925344</td>\n",
              "      <td>40.058266</td>\n",
              "    </tr>\n",
              "    <tr>\n",
              "      <th>470</th>\n",
              "      <td>19.9</td>\n",
              "      <td>17.343060</td>\n",
              "      <td>20.728228</td>\n",
              "      <td>20.370650</td>\n",
              "      <td>15.2</td>\n",
              "      <td>17.055</td>\n",
              "      <td>17.466092</td>\n",
              "      <td>16.296259</td>\n",
              "    </tr>\n",
              "    <tr>\n",
              "      <th>299</th>\n",
              "      <td>29.0</td>\n",
              "      <td>33.260567</td>\n",
              "      <td>32.847852</td>\n",
              "      <td>32.915908</td>\n",
              "      <td>32.9</td>\n",
              "      <td>33.567</td>\n",
              "      <td>34.795961</td>\n",
              "      <td>33.729366</td>\n",
              "    </tr>\n",
              "  </tbody>\n",
              "</table>\n",
              "</div>\n",
              "    <div class=\"colab-df-buttons\">\n",
              "\n",
              "  <div class=\"colab-df-container\">\n",
              "    <button class=\"colab-df-convert\" onclick=\"convertToInteractive('df-e7587e5c-6393-49ef-a28a-9b29689800be')\"\n",
              "            title=\"Convert this dataframe to an interactive table.\"\n",
              "            style=\"display:none;\">\n",
              "\n",
              "  <svg xmlns=\"http://www.w3.org/2000/svg\" height=\"24px\" viewBox=\"0 -960 960 960\">\n",
              "    <path d=\"M120-120v-720h720v720H120Zm60-500h600v-160H180v160Zm220 220h160v-160H400v160Zm0 220h160v-160H400v160ZM180-400h160v-160H180v160Zm440 0h160v-160H620v160ZM180-180h160v-160H180v160Zm440 0h160v-160H620v160Z\"/>\n",
              "  </svg>\n",
              "    </button>\n",
              "\n",
              "  <style>\n",
              "    .colab-df-container {\n",
              "      display:flex;\n",
              "      gap: 12px;\n",
              "    }\n",
              "\n",
              "    .colab-df-convert {\n",
              "      background-color: #E8F0FE;\n",
              "      border: none;\n",
              "      border-radius: 50%;\n",
              "      cursor: pointer;\n",
              "      display: none;\n",
              "      fill: #1967D2;\n",
              "      height: 32px;\n",
              "      padding: 0 0 0 0;\n",
              "      width: 32px;\n",
              "    }\n",
              "\n",
              "    .colab-df-convert:hover {\n",
              "      background-color: #E2EBFA;\n",
              "      box-shadow: 0px 1px 2px rgba(60, 64, 67, 0.3), 0px 1px 3px 1px rgba(60, 64, 67, 0.15);\n",
              "      fill: #174EA6;\n",
              "    }\n",
              "\n",
              "    .colab-df-buttons div {\n",
              "      margin-bottom: 4px;\n",
              "    }\n",
              "\n",
              "    [theme=dark] .colab-df-convert {\n",
              "      background-color: #3B4455;\n",
              "      fill: #D2E3FC;\n",
              "    }\n",
              "\n",
              "    [theme=dark] .colab-df-convert:hover {\n",
              "      background-color: #434B5C;\n",
              "      box-shadow: 0px 1px 3px 1px rgba(0, 0, 0, 0.15);\n",
              "      filter: drop-shadow(0px 1px 2px rgba(0, 0, 0, 0.3));\n",
              "      fill: #FFFFFF;\n",
              "    }\n",
              "  </style>\n",
              "\n",
              "    <script>\n",
              "      const buttonEl =\n",
              "        document.querySelector('#df-e7587e5c-6393-49ef-a28a-9b29689800be button.colab-df-convert');\n",
              "      buttonEl.style.display =\n",
              "        google.colab.kernel.accessAllowed ? 'block' : 'none';\n",
              "\n",
              "      async function convertToInteractive(key) {\n",
              "        const element = document.querySelector('#df-e7587e5c-6393-49ef-a28a-9b29689800be');\n",
              "        const dataTable =\n",
              "          await google.colab.kernel.invokeFunction('convertToInteractive',\n",
              "                                                    [key], {});\n",
              "        if (!dataTable) return;\n",
              "\n",
              "        const docLinkHtml = 'Like what you see? Visit the ' +\n",
              "          '<a target=\"_blank\" href=https://colab.research.google.com/notebooks/data_table.ipynb>data table notebook</a>'\n",
              "          + ' to learn more about interactive tables.';\n",
              "        element.innerHTML = '';\n",
              "        dataTable['output_type'] = 'display_data';\n",
              "        await google.colab.output.renderOutput(dataTable, element);\n",
              "        const docLink = document.createElement('div');\n",
              "        docLink.innerHTML = docLinkHtml;\n",
              "        element.appendChild(docLink);\n",
              "      }\n",
              "    </script>\n",
              "  </div>\n",
              "\n",
              "\n",
              "<div id=\"df-d9ce5e19-8b80-43ca-8ac3-e970604b1bf7\">\n",
              "  <button class=\"colab-df-quickchart\" onclick=\"quickchart('df-d9ce5e19-8b80-43ca-8ac3-e970604b1bf7')\"\n",
              "            title=\"Suggest charts\"\n",
              "            style=\"display:none;\">\n",
              "\n",
              "<svg xmlns=\"http://www.w3.org/2000/svg\" height=\"24px\"viewBox=\"0 0 24 24\"\n",
              "     width=\"24px\">\n",
              "    <g>\n",
              "        <path d=\"M19 3H5c-1.1 0-2 .9-2 2v14c0 1.1.9 2 2 2h14c1.1 0 2-.9 2-2V5c0-1.1-.9-2-2-2zM9 17H7v-7h2v7zm4 0h-2V7h2v10zm4 0h-2v-4h2v4z\"/>\n",
              "    </g>\n",
              "</svg>\n",
              "  </button>\n",
              "\n",
              "<style>\n",
              "  .colab-df-quickchart {\n",
              "      --bg-color: #E8F0FE;\n",
              "      --fill-color: #1967D2;\n",
              "      --hover-bg-color: #E2EBFA;\n",
              "      --hover-fill-color: #174EA6;\n",
              "      --disabled-fill-color: #AAA;\n",
              "      --disabled-bg-color: #DDD;\n",
              "  }\n",
              "\n",
              "  [theme=dark] .colab-df-quickchart {\n",
              "      --bg-color: #3B4455;\n",
              "      --fill-color: #D2E3FC;\n",
              "      --hover-bg-color: #434B5C;\n",
              "      --hover-fill-color: #FFFFFF;\n",
              "      --disabled-bg-color: #3B4455;\n",
              "      --disabled-fill-color: #666;\n",
              "  }\n",
              "\n",
              "  .colab-df-quickchart {\n",
              "    background-color: var(--bg-color);\n",
              "    border: none;\n",
              "    border-radius: 50%;\n",
              "    cursor: pointer;\n",
              "    display: none;\n",
              "    fill: var(--fill-color);\n",
              "    height: 32px;\n",
              "    padding: 0;\n",
              "    width: 32px;\n",
              "  }\n",
              "\n",
              "  .colab-df-quickchart:hover {\n",
              "    background-color: var(--hover-bg-color);\n",
              "    box-shadow: 0 1px 2px rgba(60, 64, 67, 0.3), 0 1px 3px 1px rgba(60, 64, 67, 0.15);\n",
              "    fill: var(--button-hover-fill-color);\n",
              "  }\n",
              "\n",
              "  .colab-df-quickchart-complete:disabled,\n",
              "  .colab-df-quickchart-complete:disabled:hover {\n",
              "    background-color: var(--disabled-bg-color);\n",
              "    fill: var(--disabled-fill-color);\n",
              "    box-shadow: none;\n",
              "  }\n",
              "\n",
              "  .colab-df-spinner {\n",
              "    border: 2px solid var(--fill-color);\n",
              "    border-color: transparent;\n",
              "    border-bottom-color: var(--fill-color);\n",
              "    animation:\n",
              "      spin 1s steps(1) infinite;\n",
              "  }\n",
              "\n",
              "  @keyframes spin {\n",
              "    0% {\n",
              "      border-color: transparent;\n",
              "      border-bottom-color: var(--fill-color);\n",
              "      border-left-color: var(--fill-color);\n",
              "    }\n",
              "    20% {\n",
              "      border-color: transparent;\n",
              "      border-left-color: var(--fill-color);\n",
              "      border-top-color: var(--fill-color);\n",
              "    }\n",
              "    30% {\n",
              "      border-color: transparent;\n",
              "      border-left-color: var(--fill-color);\n",
              "      border-top-color: var(--fill-color);\n",
              "      border-right-color: var(--fill-color);\n",
              "    }\n",
              "    40% {\n",
              "      border-color: transparent;\n",
              "      border-right-color: var(--fill-color);\n",
              "      border-top-color: var(--fill-color);\n",
              "    }\n",
              "    60% {\n",
              "      border-color: transparent;\n",
              "      border-right-color: var(--fill-color);\n",
              "    }\n",
              "    80% {\n",
              "      border-color: transparent;\n",
              "      border-right-color: var(--fill-color);\n",
              "      border-bottom-color: var(--fill-color);\n",
              "    }\n",
              "    90% {\n",
              "      border-color: transparent;\n",
              "      border-bottom-color: var(--fill-color);\n",
              "    }\n",
              "  }\n",
              "</style>\n",
              "\n",
              "  <script>\n",
              "    async function quickchart(key) {\n",
              "      const quickchartButtonEl =\n",
              "        document.querySelector('#' + key + ' button');\n",
              "      quickchartButtonEl.disabled = true;  // To prevent multiple clicks.\n",
              "      quickchartButtonEl.classList.add('colab-df-spinner');\n",
              "      try {\n",
              "        const charts = await google.colab.kernel.invokeFunction(\n",
              "            'suggestCharts', [key], {});\n",
              "      } catch (error) {\n",
              "        console.error('Error during call to suggestCharts:', error);\n",
              "      }\n",
              "      quickchartButtonEl.classList.remove('colab-df-spinner');\n",
              "      quickchartButtonEl.classList.add('colab-df-quickchart-complete');\n",
              "    }\n",
              "    (() => {\n",
              "      let quickchartButtonEl =\n",
              "        document.querySelector('#df-d9ce5e19-8b80-43ca-8ac3-e970604b1bf7 button');\n",
              "      quickchartButtonEl.style.display =\n",
              "        google.colab.kernel.accessAllowed ? 'block' : 'none';\n",
              "    })();\n",
              "  </script>\n",
              "</div>\n",
              "\n",
              "  <div id=\"id_41758b98-5549-4758-8ef1-84d8ce778ab2\">\n",
              "    <style>\n",
              "      .colab-df-generate {\n",
              "        background-color: #E8F0FE;\n",
              "        border: none;\n",
              "        border-radius: 50%;\n",
              "        cursor: pointer;\n",
              "        display: none;\n",
              "        fill: #1967D2;\n",
              "        height: 32px;\n",
              "        padding: 0 0 0 0;\n",
              "        width: 32px;\n",
              "      }\n",
              "\n",
              "      .colab-df-generate:hover {\n",
              "        background-color: #E2EBFA;\n",
              "        box-shadow: 0px 1px 2px rgba(60, 64, 67, 0.3), 0px 1px 3px 1px rgba(60, 64, 67, 0.15);\n",
              "        fill: #174EA6;\n",
              "      }\n",
              "\n",
              "      [theme=dark] .colab-df-generate {\n",
              "        background-color: #3B4455;\n",
              "        fill: #D2E3FC;\n",
              "      }\n",
              "\n",
              "      [theme=dark] .colab-df-generate:hover {\n",
              "        background-color: #434B5C;\n",
              "        box-shadow: 0px 1px 3px 1px rgba(0, 0, 0, 0.15);\n",
              "        filter: drop-shadow(0px 1px 2px rgba(0, 0, 0, 0.3));\n",
              "        fill: #FFFFFF;\n",
              "      }\n",
              "    </style>\n",
              "    <button class=\"colab-df-generate\" onclick=\"generateWithVariable('results_df')\"\n",
              "            title=\"Generate code using this dataframe.\"\n",
              "            style=\"display:none;\">\n",
              "\n",
              "  <svg xmlns=\"http://www.w3.org/2000/svg\" height=\"24px\"viewBox=\"0 0 24 24\"\n",
              "       width=\"24px\">\n",
              "    <path d=\"M7,19H8.4L18.45,9,17,7.55,7,17.6ZM5,21V16.75L18.45,3.32a2,2,0,0,1,2.83,0l1.4,1.43a1.91,1.91,0,0,1,.58,1.4,1.91,1.91,0,0,1-.58,1.4L9.25,21ZM18.45,9,17,7.55Zm-12,3A5.31,5.31,0,0,0,4.9,8.1,5.31,5.31,0,0,0,1,6.5,5.31,5.31,0,0,0,4.9,4.9,5.31,5.31,0,0,0,6.5,1,5.31,5.31,0,0,0,8.1,4.9,5.31,5.31,0,0,0,12,6.5,5.46,5.46,0,0,0,6.5,12Z\"/>\n",
              "  </svg>\n",
              "    </button>\n",
              "    <script>\n",
              "      (() => {\n",
              "      const buttonEl =\n",
              "        document.querySelector('#id_41758b98-5549-4758-8ef1-84d8ce778ab2 button.colab-df-generate');\n",
              "      buttonEl.style.display =\n",
              "        google.colab.kernel.accessAllowed ? 'block' : 'none';\n",
              "\n",
              "      buttonEl.onclick = () => {\n",
              "        google.colab.notebook.generateWithVariable('results_df');\n",
              "      }\n",
              "      })();\n",
              "    </script>\n",
              "  </div>\n",
              "\n",
              "    </div>\n",
              "  </div>\n"
            ],
            "application/vnd.google.colaboratory.intrinsic+json": {
              "type": "dataframe",
              "variable_name": "results_df",
              "summary": "{\n  \"name\": \"results_df\",\n  \"rows\": 10,\n  \"fields\": [\n    {\n      \"column\": \"Actual Value\",\n      \"properties\": {\n        \"dtype\": \"number\",\n        \"std\": 6.742642080239928,\n        \"min\": 13.6,\n        \"max\": 34.9,\n        \"num_unique_values\": 10,\n        \"samples\": [\n          19.9,\n          14.1,\n          22.5\n        ],\n        \"semantic_type\": \"\",\n        \"description\": \"\"\n      }\n    },\n    {\n      \"column\": \"Neural Network Predicted Value\",\n      \"properties\": {\n        \"dtype\": \"float32\",\n        \"num_unique_values\": 10,\n        \"samples\": [\n          17.343059539794922,\n          13.486576080322266,\n          24.863101959228516\n        ],\n        \"semantic_type\": \"\",\n        \"description\": \"\"\n      }\n    },\n    {\n      \"column\": \"Linear Regression Predicted Value\",\n      \"properties\": {\n        \"dtype\": \"number\",\n        \"std\": 9.125817935974212,\n        \"min\": 4.840620205544656,\n        \"max\": 34.276885789349045,\n        \"num_unique_values\": 10,\n        \"samples\": [\n          20.728227943119077,\n          16.160020696766843,\n          29.457385871844156\n        ],\n        \"semantic_type\": \"\",\n        \"description\": \"\"\n      }\n    },\n    {\n      \"column\": \"Ridge Regression Predicted Value\",\n      \"properties\": {\n        \"dtype\": \"number\",\n        \"std\": 8.890268410321191,\n        \"min\": 5.188351352742458,\n        \"max\": 33.85658450810941,\n        \"num_unique_values\": 10,\n        \"samples\": [\n          20.370650254377352,\n          16.213792657166078,\n          29.487828729940595\n        ],\n        \"semantic_type\": \"\",\n        \"description\": \"\"\n      }\n    },\n    {\n      \"column\": \"Decision Tree Predicted Value\",\n      \"properties\": {\n        \"dtype\": \"number\",\n        \"std\": 7.863304366203534,\n        \"min\": 11.8,\n        \"max\": 36.1,\n        \"num_unique_values\": 9,\n        \"samples\": [\n          36.1,\n          16.1,\n          23.5\n        ],\n        \"semantic_type\": \"\",\n        \"description\": \"\"\n      }\n    },\n    {\n      \"column\": \"Random Forest Predicted Value\",\n      \"properties\": {\n        \"dtype\": \"number\",\n        \"std\": 7.844206711537722,\n        \"min\": 12.699999999999989,\n        \"max\": 35.727000000000004,\n        \"num_unique_values\": 10,\n        \"samples\": [\n          17.054999999999986,\n          14.553999999999991,\n          24.209\n        ],\n        \"semantic_type\": \"\",\n        \"description\": \"\"\n      }\n    },\n    {\n      \"column\": \"Gradient Boosting Predicted Value\",\n      \"properties\": {\n        \"dtype\": \"number\",\n        \"std\": 8.752631436999266,\n        \"min\": 11.453381676990919,\n        \"max\": 37.925344055324416,\n        \"num_unique_values\": 10,\n        \"samples\": [\n          17.466091924928037,\n          14.209698111792296,\n          24.981048903790303\n        ],\n        \"semantic_type\": \"\",\n        \"description\": \"\"\n      }\n    },\n    {\n      \"column\": \"XGBoost Regression Predicted Value\",\n      \"properties\": {\n        \"dtype\": \"float32\",\n        \"num_unique_values\": 10,\n        \"samples\": [\n          16.2962589263916,\n          15.044268608093262,\n          23.827072143554688\n        ],\n        \"semantic_type\": \"\",\n        \"description\": \"\"\n      }\n    }\n  ]\n}"
            }
          },
          "metadata": {},
          "execution_count": 39
        }
      ]
    }
  ]
}